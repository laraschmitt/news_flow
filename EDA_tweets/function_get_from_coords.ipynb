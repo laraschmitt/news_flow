{
 "cells": [
  {
   "cell_type": "code",
   "execution_count": 1,
   "metadata": {},
   "outputs": [],
   "source": [
    "import pandas as pd"
   ]
  },
  {
   "cell_type": "code",
   "execution_count": 13,
   "metadata": {},
   "outputs": [
    {
     "name": "stderr",
     "output_type": "stream",
     "text": [
      "/Users/lara/anaconda3/lib/python3.7/site-packages/numpy/lib/arraysetops.py:569: FutureWarning: elementwise comparison failed; returning scalar instead, but in the future will perform elementwise comparison\n",
      "  mask |= (ar1 == a)\n"
     ]
    }
   ],
   "source": [
    "df = pd.read_csv('./data/location_ref/citynamemulti_councode_cityco_citypop.csv', dtype={'cityCoords': str },index_col=0)"
   ]
  },
  {
   "cell_type": "code",
   "execution_count": 15,
   "metadata": {},
   "outputs": [],
   "source": [
    "user_locs = ['Shenzhen',\n",
    " 'London',\n",
    " 'España',\n",
    " 'Hong Kong',\n",
    " '芝浜高校準軍事組織研究同好会',\n",
    " 'Illinois, USA',\n",
    " 'Illinois, USA',\n",
    " 'Osaka→Nara→Chiba(Tokyo)',\n",
    " 'Wherever threads are written..',\n",
    " 'Paris (France)',\n",
    " 'All over the world',\n",
    " 'Worldwide',\n",
    " 'Bastille, Paris',\n",
    " 'Türkiye',\n",
    " 'España',\n",
    " 'El globo terráqueo',\n",
    " 'Bengaluru, India',\n",
    " 'Japan',\n",
    " 'Nairobi, Kenya',\n",
    " 'London',\n",
    " 'Port de Jaffa, Israel',\n",
    " 'kursusutarih@gmail.com ',\n",
    " 'España',\n",
    " 'España',\n",
    " 'New Delhi, India',\n",
    " 'Rome',\n",
    " 'Buenos Aires, Argentina',\n",
    " 'Qatar',\n",
    " 'Porto Alegre',\n",
    " 'Worldwide',\n",
    " 'Worldwide',\n",
    " 'Worldwide',\n",
    " 'New England',\n",
    " 'México, D.F.',\n",
    " 'México',\n",
    " 'Indonesia, Jakarta',\n",
    " 'Outside the Bubble...',\n",
    " 'San Salvador, El Salvador',\n",
    " 'San Salvador, El Salvador',\n",
    " 'London, UK',\n",
    " 'Base del Comando Gral. Cocolí.',\n",
    " 'Nashville, TN  USA',\n",
    " 'Sede Centrale - ROMA',\n",
    " 'Córdoba, Argentina',\n",
    " 'Mendoza - Argentina',\n",
    " 'Distrito Federal, México',\n",
    " 'Beirut, Líbano',\n",
    " 'Beirut, Líbano',\n",
    " 'New York, NY',\n",
    " 'Panama',\n",
    " 'Colombia',\n",
    " 'Africa',\n",
    " 'Africa',\n",
    " 'Ciudad Universitaria, México',\n",
    " 'Venezuela',\n",
    " 'Canada',\n",
    " 'Lima, Perú',\n",
    " 'Winnipeg, MB',\n",
    " 'New York, NY',\n",
    " 'Washington, DC',\n",
    " 'Madison Heights, MI',\n",
    " 'Nicaragua',\n",
    " 'Israel',\n",
    " 'Chicago',\n",
    " 'Venezuela',\n",
    " 'Venezuela',\n",
    " 'South Africa',\n",
    " 'Ecuador',\n",
    " 'New York, NY',\n",
    " 'Ecuador',\n",
    " 'Quito - Ecuador',\n",
    " 'Miami, Florida',\n",
    " 'Maracaibo',\n",
    " 'Georgia, USA',\n",
    " '#PERÚ / EUROPA / #ASIA / LatAm',\n",
    " 'América',\n",
    " 'América',\n",
    " 'América',\n",
    " 'Kenya',\n",
    " 'Caracas, Venezuela',\n",
    " 'Venezuela',\n",
    " 'Phoenix, AZ',\n",
    " 'Argentina',\n",
    " 'México, Distrito Federal',\n",
    " 'Venezuela',\n",
    " 'Charleston, SC',\n",
    " '44 Frid St., Hamilton, Ontario, Canada',\n",
    " 'Texas, USA',\n",
    " 'Accra, Ghana',\n",
    " 'Brasil',\n",
    " 'Camp, Yuc, QRoo',\n",
    " 'London, UK',\n",
    " 'In Exile',\n",
    " 'Venezuela',\n",
    " 'Venezuela',\n",
    " 'Communication Centre Nairobi',\n",
    " 'Palmerah, Jakarta',\n",
    " '🇺🇸 United States',\n",
    " \"WE SEE YOU! WE HEAR YOU! YOU EVIL SICK BASTARDS ARE STUPID!!!  No, I'm not associated with any Paytriot accounts claiming to be a connection\",\n",
    " 'Republica Dominicana']"
   ]
  },
  {
   "cell_type": "code",
   "execution_count": 14,
   "metadata": {},
   "outputs": [
    {
     "data": {
      "text/html": [
       "<div>\n",
       "<style scoped>\n",
       "    .dataframe tbody tr th:only-of-type {\n",
       "        vertical-align: middle;\n",
       "    }\n",
       "\n",
       "    .dataframe tbody tr th {\n",
       "        vertical-align: top;\n",
       "    }\n",
       "\n",
       "    .dataframe thead th {\n",
       "        text-align: right;\n",
       "    }\n",
       "</style>\n",
       "<table border=\"1\" class=\"dataframe\">\n",
       "  <thead>\n",
       "    <tr style=\"text-align: right;\">\n",
       "      <th></th>\n",
       "      <th>language</th>\n",
       "      <th>cityLabel</th>\n",
       "      <th>alpha2Code</th>\n",
       "      <th>cityCoords</th>\n",
       "      <th>population</th>\n",
       "    </tr>\n",
       "  </thead>\n",
       "  <tbody>\n",
       "    <tr>\n",
       "      <th>0</th>\n",
       "      <td>nn</td>\n",
       "      <td>Trnava</td>\n",
       "      <td>SK</td>\n",
       "      <td>Point(17.586211111 48.37775)</td>\n",
       "      <td>65382</td>\n",
       "    </tr>\n",
       "    <tr>\n",
       "      <th>1</th>\n",
       "      <td>pl</td>\n",
       "      <td>Trnawa</td>\n",
       "      <td>SK</td>\n",
       "      <td>Point(17.586211111 48.37775)</td>\n",
       "      <td>65382</td>\n",
       "    </tr>\n",
       "    <tr>\n",
       "      <th>2</th>\n",
       "      <td>ps</td>\n",
       "      <td>ترناوا</td>\n",
       "      <td>SK</td>\n",
       "      <td>Point(17.586211111 48.37775)</td>\n",
       "      <td>65382</td>\n",
       "    </tr>\n",
       "    <tr>\n",
       "      <th>3</th>\n",
       "      <td>ro</td>\n",
       "      <td>Trnava</td>\n",
       "      <td>SK</td>\n",
       "      <td>Point(17.586211111 48.37775)</td>\n",
       "      <td>65382</td>\n",
       "    </tr>\n",
       "    <tr>\n",
       "      <th>4</th>\n",
       "      <td>rue</td>\n",
       "      <td>Тырнава</td>\n",
       "      <td>SK</td>\n",
       "      <td>Point(17.586211111 48.37775)</td>\n",
       "      <td>65382</td>\n",
       "    </tr>\n",
       "  </tbody>\n",
       "</table>\n",
       "</div>"
      ],
      "text/plain": [
       "  language cityLabel alpha2Code                    cityCoords population\n",
       "0       nn    Trnava         SK  Point(17.586211111 48.37775)      65382\n",
       "1       pl    Trnawa         SK  Point(17.586211111 48.37775)      65382\n",
       "2       ps    ترناوا         SK  Point(17.586211111 48.37775)      65382\n",
       "3       ro    Trnava         SK  Point(17.586211111 48.37775)      65382\n",
       "4      rue   Тырнава         SK  Point(17.586211111 48.37775)      65382"
      ]
     },
     "execution_count": 14,
     "metadata": {},
     "output_type": "execute_result"
    }
   ],
   "source": [
    "df.head()"
   ]
  },
  {
   "cell_type": "code",
   "execution_count": 17,
   "metadata": {},
   "outputs": [
    {
     "data": {
      "text/plain": [
       "'Illinois, USA'"
      ]
     },
     "execution_count": 17,
     "metadata": {},
     "output_type": "execute_result"
    }
   ],
   "source": [
    "user_locs[6]"
   ]
  },
  {
   "cell_type": "code",
   "execution_count": null,
   "metadata": {},
   "outputs": [],
   "source": [
    "for cityname in s:\n",
    "    found_city = user_locs_s[user_locs_s.str.contains(cityname)].values\n",
    "    if found_city.size > 0:\n",
    "        print(s[s==cityname].index.values[0])\n",
    "#         print(cityname.index)"
   ]
  }
 ],
 "metadata": {
  "kernelspec": {
   "display_name": "Python 3",
   "language": "python",
   "name": "python3"
  },
  "language_info": {
   "codemirror_mode": {
    "name": "ipython",
    "version": 3
   },
   "file_extension": ".py",
   "mimetype": "text/x-python",
   "name": "python",
   "nbconvert_exporter": "python",
   "pygments_lexer": "ipython3",
   "version": "3.7.6"
  }
 },
 "nbformat": 4,
 "nbformat_minor": 4
}
