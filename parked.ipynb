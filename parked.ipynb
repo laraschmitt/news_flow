{
 "cells": [
  {
   "cell_type": "code",
   "execution_count": null,
   "metadata": {},
   "outputs": [],
   "source": [
    "# lookup table country codes - coordinates\n",
    "# file is from googlemaps\n",
    "\n",
    "df_co_from_cc = pd.read_csv('./data/location_ref/countrycodes_coord.csv')\n",
    "\n",
    "# drop nan rows\n",
    "df_co_from_cc = df_co_from_cc.dropna(axis='rows')\n",
    "\n",
    "# remove the second decimal places after the dot for valid latitude and logitude notation\n",
    "df_co_from_cc['latitude'] = df_co_from_cc['latitude'].str.split('.').str[:-1].str.join('.')\n",
    "df_co_from_cc['longitude'] = df_co_from_cc['longitude'].str.split('.').str[:-1].str.join('.')\n",
    "\n",
    "# reame columns\n",
    "df_co_from_cc = df_co_from_cc.rename({'country': 'COUNTRY_ALPHA2_CODE', \n",
    "                                      'latitude': 'country_lat_3857', \n",
    "                                      'longitude': 'country_long_3857'}, axis='columns')\n",
    "df_co_from_cc['country_lat_long_3857'] = df_co_from_cc['country_lat_3857'] + ', ' + df_co_from_cc['country_long_3857']\n",
    "df_co_from_cc[150:200]"
   ]
  }
 ],
 "metadata": {
  "kernelspec": {
   "display_name": "Python 3",
   "language": "python",
   "name": "python3"
  },
  "language_info": {
   "codemirror_mode": {
    "name": "ipython",
    "version": 3
   },
   "file_extension": ".py",
   "mimetype": "text/x-python",
   "name": "python",
   "nbconvert_exporter": "python",
   "pygments_lexer": "ipython3",
   "version": "3.7.6"
  }
 },
 "nbformat": 4,
 "nbformat_minor": 4
}
