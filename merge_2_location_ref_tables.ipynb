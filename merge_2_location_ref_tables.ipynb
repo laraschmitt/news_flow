{
 "cells": [
  {
   "cell_type": "code",
   "execution_count": 127,
   "metadata": {},
   "outputs": [],
   "source": [
    "import pandas as pd"
   ]
  },
  {
   "cell_type": "markdown",
   "metadata": {},
   "source": [
    "### load table countrycode - countrycoords and preprocess"
   ]
  },
  {
   "cell_type": "code",
   "execution_count": 128,
   "metadata": {},
   "outputs": [],
   "source": [
    "df_co_from_cc = pd.read_csv('./data/location_ref/councode_councood.csv')\n",
    "\n",
    "# reame columns\n",
    "df_co_from_cc = df_co_from_cc.rename({'alpha2Code': 'COUNTRY_ALPHA2_CODE'}, axis='columns')"
   ]
  },
  {
   "cell_type": "code",
   "execution_count": 129,
   "metadata": {},
   "outputs": [],
   "source": [
    "df_co_from_cc['countryCoords'] = df_co_from_cc['countryCoords'].replace(\"Point\\(\", \"\", regex=True).replace(\" \", \", \", regex=True).replace(\"\\)\", \"\", regex=True)\n",
    "\n",
    "\n",
    "# converting to string series \n",
    "df_co_from_cc['countryCoords']= df_co_from_cc['countryCoords'].astype(str) \n",
    "\n",
    "# splitting at occurrence of whitespace \n",
    "df_co_from_cc['countryCoords']= df_co_from_cc['countryCoords'].str.split(\",\", 1) \n",
    "  \n",
    "# displaying second element from list \n",
    "df_co_from_cc['country_lat_3857']  = df_co_from_cc['countryCoords'].str.get(1) \n",
    "\n",
    "# displaying first element from list \n",
    "df_co_from_cc['country_long_3857']  = df_co_from_cc['countryCoords'].str.get(0)\n",
    " \n",
    "    \n",
    "df_co_from_cc['country_lat_long_3857'] = df_co_from_cc['country_lat_3857'] + \", \" + df_co_from_cc['country_long_3857'] \n",
    "df_co_from_cc = df_co_from_cc.drop(columns=['countryCoords', 'country'])"
   ]
  },
  {
   "cell_type": "code",
   "execution_count": 130,
   "metadata": {},
   "outputs": [
    {
     "data": {
      "text/html": [
       "<div>\n",
       "<style scoped>\n",
       "    .dataframe tbody tr th:only-of-type {\n",
       "        vertical-align: middle;\n",
       "    }\n",
       "\n",
       "    .dataframe tbody tr th {\n",
       "        vertical-align: top;\n",
       "    }\n",
       "\n",
       "    .dataframe thead th {\n",
       "        text-align: right;\n",
       "    }\n",
       "</style>\n",
       "<table border=\"1\" class=\"dataframe\">\n",
       "  <thead>\n",
       "    <tr style=\"text-align: right;\">\n",
       "      <th></th>\n",
       "      <th>COUNTRY_ALPHA2_CODE</th>\n",
       "      <th>country_lat_3857</th>\n",
       "      <th>country_long_3857</th>\n",
       "      <th>country_lat_long_3857</th>\n",
       "    </tr>\n",
       "  </thead>\n",
       "  <tbody>\n",
       "    <tr>\n",
       "      <th>0</th>\n",
       "      <td>KY</td>\n",
       "      <td>19.5</td>\n",
       "      <td>-80.5</td>\n",
       "      <td>19.5, -80.5</td>\n",
       "    </tr>\n",
       "    <tr>\n",
       "      <th>1</th>\n",
       "      <td>BW</td>\n",
       "      <td>-22.2</td>\n",
       "      <td>23.7</td>\n",
       "      <td>-22.2, 23.7</td>\n",
       "    </tr>\n",
       "    <tr>\n",
       "      <th>2</th>\n",
       "      <td>TZ</td>\n",
       "      <td>-6.307</td>\n",
       "      <td>34.854</td>\n",
       "      <td>-6.307, 34.854</td>\n",
       "    </tr>\n",
       "    <tr>\n",
       "      <th>3</th>\n",
       "      <td>GH</td>\n",
       "      <td>8.0</td>\n",
       "      <td>-0.5</td>\n",
       "      <td>8.0, -0.5</td>\n",
       "    </tr>\n",
       "    <tr>\n",
       "      <th>4</th>\n",
       "      <td>MP</td>\n",
       "      <td>16.705</td>\n",
       "      <td>145.78</td>\n",
       "      <td>16.705, 145.78</td>\n",
       "    </tr>\n",
       "  </tbody>\n",
       "</table>\n",
       "</div>"
      ],
      "text/plain": [
       "  COUNTRY_ALPHA2_CODE country_lat_3857 country_long_3857 country_lat_long_3857\n",
       "0                  KY             19.5             -80.5           19.5, -80.5\n",
       "1                  BW            -22.2              23.7           -22.2, 23.7\n",
       "2                  TZ           -6.307            34.854        -6.307, 34.854\n",
       "3                  GH              8.0              -0.5             8.0, -0.5\n",
       "4                  MP           16.705            145.78        16.705, 145.78"
      ]
     },
     "execution_count": 130,
     "metadata": {},
     "output_type": "execute_result"
    }
   ],
   "source": [
    "df_co_from_cc.head()"
   ]
  },
  {
   "cell_type": "code",
   "execution_count": 131,
   "metadata": {},
   "outputs": [
    {
     "data": {
      "text/plain": [
       "(256, 4)"
      ]
     },
     "execution_count": 131,
     "metadata": {},
     "output_type": "execute_result"
    }
   ],
   "source": [
    "df_co_from_cc.shape"
   ]
  },
  {
   "cell_type": "markdown",
   "metadata": {},
   "source": [
    "### load table country names multilingual - country name - country code"
   ]
  },
  {
   "cell_type": "code",
   "execution_count": 132,
   "metadata": {},
   "outputs": [
    {
     "data": {
      "text/html": [
       "<div>\n",
       "<style scoped>\n",
       "    .dataframe tbody tr th:only-of-type {\n",
       "        vertical-align: middle;\n",
       "    }\n",
       "\n",
       "    .dataframe tbody tr th {\n",
       "        vertical-align: top;\n",
       "    }\n",
       "\n",
       "    .dataframe thead th {\n",
       "        text-align: right;\n",
       "    }\n",
       "</style>\n",
       "<table border=\"1\" class=\"dataframe\">\n",
       "  <thead>\n",
       "    <tr style=\"text-align: right;\">\n",
       "      <th></th>\n",
       "      <th>LANG_NAME</th>\n",
       "      <th>COUNTRY_ALPHA2_CODE</th>\n",
       "      <th>COUNTRY_NAME</th>\n",
       "    </tr>\n",
       "  </thead>\n",
       "  <tbody>\n",
       "    <tr>\n",
       "      <th>0</th>\n",
       "      <td>AFRIKAANS</td>\n",
       "      <td>AD</td>\n",
       "      <td>andorra</td>\n",
       "    </tr>\n",
       "    <tr>\n",
       "      <th>1</th>\n",
       "      <td>AFRIKAANS</td>\n",
       "      <td>AE</td>\n",
       "      <td>verenigde arabiese emirate</td>\n",
       "    </tr>\n",
       "    <tr>\n",
       "      <th>2</th>\n",
       "      <td>AFRIKAANS</td>\n",
       "      <td>AF</td>\n",
       "      <td>afganistan</td>\n",
       "    </tr>\n",
       "    <tr>\n",
       "      <th>3</th>\n",
       "      <td>AFRIKAANS</td>\n",
       "      <td>AG</td>\n",
       "      <td>antigua en barbuda</td>\n",
       "    </tr>\n",
       "    <tr>\n",
       "      <th>4</th>\n",
       "      <td>AFRIKAANS</td>\n",
       "      <td>AI</td>\n",
       "      <td>anguilla</td>\n",
       "    </tr>\n",
       "  </tbody>\n",
       "</table>\n",
       "</div>"
      ],
      "text/plain": [
       "   LANG_NAME COUNTRY_ALPHA2_CODE                COUNTRY_NAME\n",
       "0  AFRIKAANS                  AD                     andorra\n",
       "1  AFRIKAANS                  AE  verenigde arabiese emirate\n",
       "2  AFRIKAANS                  AF                  afganistan\n",
       "3  AFRIKAANS                  AG          antigua en barbuda\n",
       "4  AFRIKAANS                  AI                    anguilla"
      ]
     },
     "execution_count": 132,
     "metadata": {},
     "output_type": "execute_result"
    }
   ],
   "source": [
    "df_c_multilingu = pd.read_csv('./data/country_names_multilingual/IP2LOCATION-COUNTRY-MULTILINGUAL.CSV')\n",
    "df_c_multilingu = df_c_multilingu.drop(columns=['COUNTRY_ALPHA3_CODE', 'COUNTRY_NUMERIC_CODE'])\n",
    "# make COUNTRY_NAME lowercase\n",
    "df_c_multilingu['COUNTRY_NAME'] = df_c_multilingu['COUNTRY_NAME'].str.lower()\n",
    "\n",
    "df_c_multilingu = df_c_multilingu.drop(columns='LANG')\n",
    "df_c_multilingu.head()"
   ]
  },
  {
   "cell_type": "code",
   "execution_count": 133,
   "metadata": {},
   "outputs": [
    {
     "data": {
      "text/html": [
       "<div>\n",
       "<style scoped>\n",
       "    .dataframe tbody tr th:only-of-type {\n",
       "        vertical-align: middle;\n",
       "    }\n",
       "\n",
       "    .dataframe tbody tr th {\n",
       "        vertical-align: top;\n",
       "    }\n",
       "\n",
       "    .dataframe thead th {\n",
       "        text-align: right;\n",
       "    }\n",
       "</style>\n",
       "<table border=\"1\" class=\"dataframe\">\n",
       "  <thead>\n",
       "    <tr style=\"text-align: right;\">\n",
       "      <th></th>\n",
       "      <th>LANG_NAME</th>\n",
       "      <th>COUNTRY_ALPHA2_CODE</th>\n",
       "      <th>COUNTRY_NAME</th>\n",
       "    </tr>\n",
       "  </thead>\n",
       "  <tbody>\n",
       "    <tr>\n",
       "      <th>13051</th>\n",
       "      <td>NORWEGIAN BOKMAL</td>\n",
       "      <td>IM</td>\n",
       "      <td>man</td>\n",
       "    </tr>\n",
       "    <tr>\n",
       "      <th>13798</th>\n",
       "      <td>NORWEGIAN NYNORSK</td>\n",
       "      <td>IM</td>\n",
       "      <td>man</td>\n",
       "    </tr>\n",
       "    <tr>\n",
       "      <th>14047</th>\n",
       "      <td>NORWEGIAN</td>\n",
       "      <td>IM</td>\n",
       "      <td>man</td>\n",
       "    </tr>\n",
       "  </tbody>\n",
       "</table>\n",
       "</div>"
      ],
      "text/plain": [
       "               LANG_NAME COUNTRY_ALPHA2_CODE COUNTRY_NAME\n",
       "13051   NORWEGIAN BOKMAL                  IM          man\n",
       "13798  NORWEGIAN NYNORSK                  IM          man\n",
       "14047          NORWEGIAN                  IM          man"
      ]
     },
     "execution_count": 133,
     "metadata": {},
     "output_type": "execute_result"
    }
   ],
   "source": [
    "#drop: re, man\n",
    "df_c_multilingu[df_c_multilingu['COUNTRY_NAME']=='man']"
   ]
  },
  {
   "cell_type": "code",
   "execution_count": 149,
   "metadata": {},
   "outputs": [
    {
     "data": {
      "text/html": [
       "<div>\n",
       "<style scoped>\n",
       "    .dataframe tbody tr th:only-of-type {\n",
       "        vertical-align: middle;\n",
       "    }\n",
       "\n",
       "    .dataframe tbody tr th {\n",
       "        vertical-align: top;\n",
       "    }\n",
       "\n",
       "    .dataframe thead th {\n",
       "        text-align: right;\n",
       "    }\n",
       "</style>\n",
       "<table border=\"1\" class=\"dataframe\">\n",
       "  <thead>\n",
       "    <tr style=\"text-align: right;\">\n",
       "      <th></th>\n",
       "      <th>LANG_NAME</th>\n",
       "      <th>COUNTRY_ALPHA2_CODE</th>\n",
       "      <th>COUNTRY_NAME</th>\n",
       "    </tr>\n",
       "  </thead>\n",
       "  <tbody>\n",
       "    <tr>\n",
       "      <th>19562</th>\n",
       "      <td>VIETNAMESE</td>\n",
       "      <td>MF</td>\n",
       "      <td>mf</td>\n",
       "    </tr>\n",
       "  </tbody>\n",
       "</table>\n",
       "</div>"
      ],
      "text/plain": [
       "        LANG_NAME COUNTRY_ALPHA2_CODE COUNTRY_NAME\n",
       "19562  VIETNAMESE                  MF           mf"
      ]
     },
     "execution_count": 149,
     "metadata": {},
     "output_type": "execute_result"
    }
   ],
   "source": [
    "df_c_multilingu[df_c_multilingu['COUNTRY_NAME']=='mf'] \n",
    "# yt, re, man, mf\n",
    "# nga = russia"
   ]
  },
  {
   "cell_type": "code",
   "execution_count": 135,
   "metadata": {},
   "outputs": [],
   "source": [
    "df_c_multilingu = df_c_multilingu.drop(index=[13051,13798, 14047, 19609,19667,19562])"
   ]
  },
  {
   "cell_type": "code",
   "execution_count": 137,
   "metadata": {},
   "outputs": [
    {
     "data": {
      "text/plain": [
       "(20165, 3)"
      ]
     },
     "execution_count": 137,
     "metadata": {},
     "output_type": "execute_result"
    }
   ],
   "source": [
    "df_c_multilingu.shape #20169 #20166 # 20165"
   ]
  },
  {
   "cell_type": "code",
   "execution_count": 138,
   "metadata": {},
   "outputs": [
    {
     "data": {
      "text/plain": [
       "13389"
      ]
     },
     "execution_count": 138,
     "metadata": {},
     "output_type": "execute_result"
    }
   ],
   "source": [
    "df_c_multilingu['COUNTRY_NAME'].nunique()"
   ]
  },
  {
   "cell_type": "code",
   "execution_count": 139,
   "metadata": {},
   "outputs": [],
   "source": [
    "# remove duplicates\n",
    "df_c_multilingu = df_c_multilingu[~df_c_multilingu['COUNTRY_NAME'].duplicated()]"
   ]
  },
  {
   "cell_type": "code",
   "execution_count": 140,
   "metadata": {},
   "outputs": [
    {
     "data": {
      "text/plain": [
       "(13389, 3)"
      ]
     },
     "execution_count": 140,
     "metadata": {},
     "output_type": "execute_result"
    }
   ],
   "source": [
    "df_c_multilingu.shape"
   ]
  },
  {
   "cell_type": "markdown",
   "metadata": {},
   "source": [
    "### Merge dataframes"
   ]
  },
  {
   "cell_type": "code",
   "execution_count": 141,
   "metadata": {},
   "outputs": [
    {
     "data": {
      "text/plain": [
       "(13747, 6)"
      ]
     },
     "execution_count": 141,
     "metadata": {},
     "output_type": "execute_result"
    }
   ],
   "source": [
    "# merge these 2 \n",
    "df_c = df_c_multilingu.merge(df_co_from_cc, how='left', on='COUNTRY_ALPHA2_CODE',suffixes=(False, False))\n",
    "df_c.shape"
   ]
  },
  {
   "cell_type": "code",
   "execution_count": 142,
   "metadata": {},
   "outputs": [
    {
     "data": {
      "text/html": [
       "<div>\n",
       "<style scoped>\n",
       "    .dataframe tbody tr th:only-of-type {\n",
       "        vertical-align: middle;\n",
       "    }\n",
       "\n",
       "    .dataframe tbody tr th {\n",
       "        vertical-align: top;\n",
       "    }\n",
       "\n",
       "    .dataframe thead th {\n",
       "        text-align: right;\n",
       "    }\n",
       "</style>\n",
       "<table border=\"1\" class=\"dataframe\">\n",
       "  <thead>\n",
       "    <tr style=\"text-align: right;\">\n",
       "      <th></th>\n",
       "      <th>LANG_NAME</th>\n",
       "      <th>COUNTRY_ALPHA2_CODE</th>\n",
       "      <th>COUNTRY_NAME</th>\n",
       "      <th>country_lat_3857</th>\n",
       "      <th>country_long_3857</th>\n",
       "      <th>country_lat_long_3857</th>\n",
       "    </tr>\n",
       "  </thead>\n",
       "  <tbody>\n",
       "    <tr>\n",
       "      <th>0</th>\n",
       "      <td>AFRIKAANS</td>\n",
       "      <td>AD</td>\n",
       "      <td>andorra</td>\n",
       "      <td>42.558333333</td>\n",
       "      <td>1.555277777</td>\n",
       "      <td>42.558333333, 1.555277777</td>\n",
       "    </tr>\n",
       "    <tr>\n",
       "      <th>1</th>\n",
       "      <td>AFRIKAANS</td>\n",
       "      <td>AE</td>\n",
       "      <td>verenigde arabiese emirate</td>\n",
       "      <td>24.4</td>\n",
       "      <td>54.3</td>\n",
       "      <td>24.4, 54.3</td>\n",
       "    </tr>\n",
       "    <tr>\n",
       "      <th>2</th>\n",
       "      <td>AFRIKAANS</td>\n",
       "      <td>AF</td>\n",
       "      <td>afganistan</td>\n",
       "      <td>34.0</td>\n",
       "      <td>66.0</td>\n",
       "      <td>34.0, 66.0</td>\n",
       "    </tr>\n",
       "    <tr>\n",
       "      <th>3</th>\n",
       "      <td>AFRIKAANS</td>\n",
       "      <td>AG</td>\n",
       "      <td>antigua en barbuda</td>\n",
       "      <td>17.116666666</td>\n",
       "      <td>-61.85</td>\n",
       "      <td>17.116666666, -61.85</td>\n",
       "    </tr>\n",
       "    <tr>\n",
       "      <th>4</th>\n",
       "      <td>AFRIKAANS</td>\n",
       "      <td>AI</td>\n",
       "      <td>anguilla</td>\n",
       "      <td>18.227222222</td>\n",
       "      <td>-63.048888888</td>\n",
       "      <td>18.227222222, -63.048888888</td>\n",
       "    </tr>\n",
       "  </tbody>\n",
       "</table>\n",
       "</div>"
      ],
      "text/plain": [
       "   LANG_NAME COUNTRY_ALPHA2_CODE                COUNTRY_NAME country_lat_3857  \\\n",
       "0  AFRIKAANS                  AD                     andorra     42.558333333   \n",
       "1  AFRIKAANS                  AE  verenigde arabiese emirate             24.4   \n",
       "2  AFRIKAANS                  AF                  afganistan             34.0   \n",
       "3  AFRIKAANS                  AG          antigua en barbuda     17.116666666   \n",
       "4  AFRIKAANS                  AI                    anguilla     18.227222222   \n",
       "\n",
       "  country_long_3857         country_lat_long_3857  \n",
       "0       1.555277777     42.558333333, 1.555277777  \n",
       "1              54.3                    24.4, 54.3  \n",
       "2              66.0                    34.0, 66.0  \n",
       "3            -61.85          17.116666666, -61.85  \n",
       "4     -63.048888888   18.227222222, -63.048888888  "
      ]
     },
     "execution_count": 142,
     "metadata": {},
     "output_type": "execute_result"
    }
   ],
   "source": [
    "df_c.head()"
   ]
  },
  {
   "cell_type": "code",
   "execution_count": 143,
   "metadata": {},
   "outputs": [
    {
     "data": {
      "text/plain": [
       "(13747, 6)"
      ]
     },
     "execution_count": 143,
     "metadata": {},
     "output_type": "execute_result"
    }
   ],
   "source": [
    "df_c.shape"
   ]
  },
  {
   "cell_type": "code",
   "execution_count": 144,
   "metadata": {},
   "outputs": [],
   "source": [
    "# check for dupliates in COUNTRY_NAME col\n",
    "# remove duplicates cityLabel entries\n",
    "df_c = df_c[~df_c['COUNTRY_NAME'].duplicated()]"
   ]
  },
  {
   "cell_type": "code",
   "execution_count": 145,
   "metadata": {},
   "outputs": [
    {
     "data": {
      "text/plain": [
       "(13389, 6)"
      ]
     },
     "execution_count": 145,
     "metadata": {},
     "output_type": "execute_result"
    }
   ],
   "source": [
    "df_c.shape"
   ]
  },
  {
   "cell_type": "code",
   "execution_count": 146,
   "metadata": {},
   "outputs": [],
   "source": [
    "df_c.to_csv('./data/location_ref/country_multilingu_countrycode_countrycoord.csv')"
   ]
  },
  {
   "cell_type": "markdown",
   "metadata": {},
   "source": [
    "### import cityname multilingu"
   ]
  },
  {
   "cell_type": "code",
   "execution_count": 90,
   "metadata": {
    "scrolled": true
   },
   "outputs": [],
   "source": [
    "df_d = pd.read_csv('./data/location_ref/citynamemulti_councode_cityco_citypop.csv', \n",
    "                   dtype={'cityCoords': str },index_col=0)"
   ]
  },
  {
   "cell_type": "code",
   "execution_count": 91,
   "metadata": {},
   "outputs": [
    {
     "data": {
      "text/html": [
       "<div>\n",
       "<style scoped>\n",
       "    .dataframe tbody tr th:only-of-type {\n",
       "        vertical-align: middle;\n",
       "    }\n",
       "\n",
       "    .dataframe tbody tr th {\n",
       "        vertical-align: top;\n",
       "    }\n",
       "\n",
       "    .dataframe thead th {\n",
       "        text-align: right;\n",
       "    }\n",
       "</style>\n",
       "<table border=\"1\" class=\"dataframe\">\n",
       "  <thead>\n",
       "    <tr style=\"text-align: right;\">\n",
       "      <th></th>\n",
       "      <th>language</th>\n",
       "      <th>CITY_NAME</th>\n",
       "      <th>COUNTRY_ALPHA2_CODE</th>\n",
       "      <th>population</th>\n",
       "      <th>city_lat_3857</th>\n",
       "      <th>city_long_3857</th>\n",
       "      <th>city_lat_long_3857</th>\n",
       "    </tr>\n",
       "  </thead>\n",
       "  <tbody>\n",
       "    <tr>\n",
       "      <th>0</th>\n",
       "      <td>nn</td>\n",
       "      <td>Trnava</td>\n",
       "      <td>SK</td>\n",
       "      <td>65382.0</td>\n",
       "      <td>48.37775</td>\n",
       "      <td>17.586211</td>\n",
       "      <td>48.37775, 17.586211111</td>\n",
       "    </tr>\n",
       "    <tr>\n",
       "      <th>1</th>\n",
       "      <td>pl</td>\n",
       "      <td>Trnawa</td>\n",
       "      <td>SK</td>\n",
       "      <td>65382.0</td>\n",
       "      <td>48.37775</td>\n",
       "      <td>17.586211</td>\n",
       "      <td>48.37775, 17.586211111</td>\n",
       "    </tr>\n",
       "    <tr>\n",
       "      <th>2</th>\n",
       "      <td>ps</td>\n",
       "      <td>ترناوا</td>\n",
       "      <td>SK</td>\n",
       "      <td>65382.0</td>\n",
       "      <td>48.37775</td>\n",
       "      <td>17.586211</td>\n",
       "      <td>48.37775, 17.586211111</td>\n",
       "    </tr>\n",
       "    <tr>\n",
       "      <th>4</th>\n",
       "      <td>rue</td>\n",
       "      <td>Тырнава</td>\n",
       "      <td>SK</td>\n",
       "      <td>65382.0</td>\n",
       "      <td>48.37775</td>\n",
       "      <td>17.586211</td>\n",
       "      <td>48.37775, 17.586211111</td>\n",
       "    </tr>\n",
       "    <tr>\n",
       "      <th>6</th>\n",
       "      <td>si</td>\n",
       "      <td>ට්ර්නාවා</td>\n",
       "      <td>SK</td>\n",
       "      <td>65382.0</td>\n",
       "      <td>48.37775</td>\n",
       "      <td>17.586211</td>\n",
       "      <td>48.37775, 17.586211111</td>\n",
       "    </tr>\n",
       "  </tbody>\n",
       "</table>\n",
       "</div>"
      ],
      "text/plain": [
       "  language CITY_NAME COUNTRY_ALPHA2_CODE  population  city_lat_3857  \\\n",
       "0       nn    Trnava                  SK     65382.0       48.37775   \n",
       "1       pl    Trnawa                  SK     65382.0       48.37775   \n",
       "2       ps    ترناوا                  SK     65382.0       48.37775   \n",
       "4      rue   Тырнава                  SK     65382.0       48.37775   \n",
       "6       si  ට්ර්නාවා                  SK     65382.0       48.37775   \n",
       "\n",
       "   city_long_3857       city_lat_long_3857  \n",
       "0       17.586211   48.37775, 17.586211111  \n",
       "1       17.586211   48.37775, 17.586211111  \n",
       "2       17.586211   48.37775, 17.586211111  \n",
       "4       17.586211   48.37775, 17.586211111  \n",
       "6       17.586211   48.37775, 17.586211111  "
      ]
     },
     "execution_count": 91,
     "metadata": {},
     "output_type": "execute_result"
    }
   ],
   "source": [
    "df_d.head()"
   ]
  },
  {
   "cell_type": "code",
   "execution_count": 92,
   "metadata": {},
   "outputs": [],
   "source": [
    "df_e = df_d.merge(df_co_from_cc, how='left', on='COUNTRY_ALPHA2_CODE',suffixes=(False, False))\n"
   ]
  },
  {
   "cell_type": "code",
   "execution_count": 93,
   "metadata": {},
   "outputs": [],
   "source": [
    "# cols = list(df_e.columns.values)\n",
    "col_order = ['language',\n",
    " 'CITY_NAME',\n",
    " 'city_lat_3857',\n",
    " 'city_long_3857',\n",
    " 'city_lat_long_3857',\n",
    " 'population',\n",
    " 'COUNTRY_ALPHA2_CODE',\n",
    " 'country_lat_3857',\n",
    " 'country_long_3857',\n",
    " 'country_lat_long_3857']"
   ]
  },
  {
   "cell_type": "code",
   "execution_count": 97,
   "metadata": {},
   "outputs": [],
   "source": [
    "df_e = df_e[col_order]"
   ]
  },
  {
   "cell_type": "code",
   "execution_count": 98,
   "metadata": {},
   "outputs": [],
   "source": [
    "# make city_name lowercase\n",
    "df_e['CITY_NAME'] = df_e['CITY_NAME'].str.lower()\n"
   ]
  },
  {
   "cell_type": "code",
   "execution_count": 99,
   "metadata": {},
   "outputs": [
    {
     "data": {
      "text/html": [
       "<div>\n",
       "<style scoped>\n",
       "    .dataframe tbody tr th:only-of-type {\n",
       "        vertical-align: middle;\n",
       "    }\n",
       "\n",
       "    .dataframe tbody tr th {\n",
       "        vertical-align: top;\n",
       "    }\n",
       "\n",
       "    .dataframe thead th {\n",
       "        text-align: right;\n",
       "    }\n",
       "</style>\n",
       "<table border=\"1\" class=\"dataframe\">\n",
       "  <thead>\n",
       "    <tr style=\"text-align: right;\">\n",
       "      <th></th>\n",
       "      <th>language</th>\n",
       "      <th>CITY_NAME</th>\n",
       "      <th>city_lat_3857</th>\n",
       "      <th>city_long_3857</th>\n",
       "      <th>city_lat_long_3857</th>\n",
       "      <th>population</th>\n",
       "      <th>COUNTRY_ALPHA2_CODE</th>\n",
       "      <th>country_lat_3857</th>\n",
       "      <th>country_long_3857</th>\n",
       "      <th>country_lat_long_3857</th>\n",
       "    </tr>\n",
       "  </thead>\n",
       "  <tbody>\n",
       "    <tr>\n",
       "      <th>2000</th>\n",
       "      <td>sa</td>\n",
       "      <td>ईरोड</td>\n",
       "      <td>11.340833</td>\n",
       "      <td>77.717222</td>\n",
       "      <td>11.340833333, 77.717222222</td>\n",
       "      <td>151184.0</td>\n",
       "      <td>IN</td>\n",
       "      <td>22.8</td>\n",
       "      <td>83.0</td>\n",
       "      <td>22.8, 83.0</td>\n",
       "    </tr>\n",
       "    <tr>\n",
       "      <th>2001</th>\n",
       "      <td>si</td>\n",
       "      <td>, එරොදේ</td>\n",
       "      <td>11.340833</td>\n",
       "      <td>77.717222</td>\n",
       "      <td>11.340833333, 77.717222222</td>\n",
       "      <td>151184.0</td>\n",
       "      <td>IN</td>\n",
       "      <td>22.8</td>\n",
       "      <td>83.0</td>\n",
       "      <td>22.8, 83.0</td>\n",
       "    </tr>\n",
       "    <tr>\n",
       "      <th>2002</th>\n",
       "      <td>sl</td>\n",
       "      <td>erode, tamil nadu, indija</td>\n",
       "      <td>11.340833</td>\n",
       "      <td>77.717222</td>\n",
       "      <td>11.340833333, 77.717222222</td>\n",
       "      <td>151184.0</td>\n",
       "      <td>IN</td>\n",
       "      <td>22.8</td>\n",
       "      <td>83.0</td>\n",
       "      <td>22.8, 83.0</td>\n",
       "    </tr>\n",
       "    <tr>\n",
       "      <th>2003</th>\n",
       "      <td>ta</td>\n",
       "      <td>ஈரோடு</td>\n",
       "      <td>11.340833</td>\n",
       "      <td>77.717222</td>\n",
       "      <td>11.340833333, 77.717222222</td>\n",
       "      <td>151184.0</td>\n",
       "      <td>IN</td>\n",
       "      <td>22.8</td>\n",
       "      <td>83.0</td>\n",
       "      <td>22.8, 83.0</td>\n",
       "    </tr>\n",
       "    <tr>\n",
       "      <th>2004</th>\n",
       "      <td>th</td>\n",
       "      <td>เอโรด</td>\n",
       "      <td>11.340833</td>\n",
       "      <td>77.717222</td>\n",
       "      <td>11.340833333, 77.717222222</td>\n",
       "      <td>151184.0</td>\n",
       "      <td>IN</td>\n",
       "      <td>22.8</td>\n",
       "      <td>83.0</td>\n",
       "      <td>22.8, 83.0</td>\n",
       "    </tr>\n",
       "    <tr>\n",
       "      <th>...</th>\n",
       "      <td>...</td>\n",
       "      <td>...</td>\n",
       "      <td>...</td>\n",
       "      <td>...</td>\n",
       "      <td>...</td>\n",
       "      <td>...</td>\n",
       "      <td>...</td>\n",
       "      <td>...</td>\n",
       "      <td>...</td>\n",
       "      <td>...</td>\n",
       "    </tr>\n",
       "    <tr>\n",
       "      <th>2095</th>\n",
       "      <td>ca</td>\n",
       "      <td>taixkent</td>\n",
       "      <td>41.300000</td>\n",
       "      <td>69.266667</td>\n",
       "      <td>41.3, 69.266666666</td>\n",
       "      <td>2424100.0</td>\n",
       "      <td>UZ</td>\n",
       "      <td>41.0</td>\n",
       "      <td>66.0</td>\n",
       "      <td>41.0, 66.0</td>\n",
       "    </tr>\n",
       "    <tr>\n",
       "      <th>2096</th>\n",
       "      <td>ckb</td>\n",
       "      <td>تاشکەند</td>\n",
       "      <td>41.300000</td>\n",
       "      <td>69.266667</td>\n",
       "      <td>41.3, 69.266666666</td>\n",
       "      <td>2424100.0</td>\n",
       "      <td>UZ</td>\n",
       "      <td>41.0</td>\n",
       "      <td>66.0</td>\n",
       "      <td>41.0, 66.0</td>\n",
       "    </tr>\n",
       "    <tr>\n",
       "      <th>2097</th>\n",
       "      <td>de</td>\n",
       "      <td>taschkent</td>\n",
       "      <td>41.300000</td>\n",
       "      <td>69.266667</td>\n",
       "      <td>41.3, 69.266666666</td>\n",
       "      <td>2424100.0</td>\n",
       "      <td>UZ</td>\n",
       "      <td>41.0</td>\n",
       "      <td>66.0</td>\n",
       "      <td>41.0, 66.0</td>\n",
       "    </tr>\n",
       "    <tr>\n",
       "      <th>2098</th>\n",
       "      <td>el</td>\n",
       "      <td>τασκένδη</td>\n",
       "      <td>41.300000</td>\n",
       "      <td>69.266667</td>\n",
       "      <td>41.3, 69.266666666</td>\n",
       "      <td>2424100.0</td>\n",
       "      <td>UZ</td>\n",
       "      <td>41.0</td>\n",
       "      <td>66.0</td>\n",
       "      <td>41.0, 66.0</td>\n",
       "    </tr>\n",
       "    <tr>\n",
       "      <th>2099</th>\n",
       "      <td>eo</td>\n",
       "      <td>taŝkento</td>\n",
       "      <td>41.300000</td>\n",
       "      <td>69.266667</td>\n",
       "      <td>41.3, 69.266666666</td>\n",
       "      <td>2424100.0</td>\n",
       "      <td>UZ</td>\n",
       "      <td>41.0</td>\n",
       "      <td>66.0</td>\n",
       "      <td>41.0, 66.0</td>\n",
       "    </tr>\n",
       "  </tbody>\n",
       "</table>\n",
       "<p>100 rows × 10 columns</p>\n",
       "</div>"
      ],
      "text/plain": [
       "     language                  CITY_NAME  city_lat_3857  city_long_3857  \\\n",
       "2000       sa                       ईरोड      11.340833       77.717222   \n",
       "2001       si                    , එරොදේ      11.340833       77.717222   \n",
       "2002       sl  erode, tamil nadu, indija      11.340833       77.717222   \n",
       "2003       ta                      ஈரோடு      11.340833       77.717222   \n",
       "2004       th                      เอโรด      11.340833       77.717222   \n",
       "...       ...                        ...            ...             ...   \n",
       "2095       ca                   taixkent      41.300000       69.266667   \n",
       "2096      ckb                    تاشکەند      41.300000       69.266667   \n",
       "2097       de                  taschkent      41.300000       69.266667   \n",
       "2098       el                   τασκένδη      41.300000       69.266667   \n",
       "2099       eo                   taŝkento      41.300000       69.266667   \n",
       "\n",
       "               city_lat_long_3857  population COUNTRY_ALPHA2_CODE  \\\n",
       "2000   11.340833333, 77.717222222    151184.0                  IN   \n",
       "2001   11.340833333, 77.717222222    151184.0                  IN   \n",
       "2002   11.340833333, 77.717222222    151184.0                  IN   \n",
       "2003   11.340833333, 77.717222222    151184.0                  IN   \n",
       "2004   11.340833333, 77.717222222    151184.0                  IN   \n",
       "...                           ...         ...                 ...   \n",
       "2095           41.3, 69.266666666   2424100.0                  UZ   \n",
       "2096           41.3, 69.266666666   2424100.0                  UZ   \n",
       "2097           41.3, 69.266666666   2424100.0                  UZ   \n",
       "2098           41.3, 69.266666666   2424100.0                  UZ   \n",
       "2099           41.3, 69.266666666   2424100.0                  UZ   \n",
       "\n",
       "     country_lat_3857 country_long_3857 country_lat_long_3857  \n",
       "2000             22.8              83.0            22.8, 83.0  \n",
       "2001             22.8              83.0            22.8, 83.0  \n",
       "2002             22.8              83.0            22.8, 83.0  \n",
       "2003             22.8              83.0            22.8, 83.0  \n",
       "2004             22.8              83.0            22.8, 83.0  \n",
       "...               ...               ...                   ...  \n",
       "2095             41.0              66.0            41.0, 66.0  \n",
       "2096             41.0              66.0            41.0, 66.0  \n",
       "2097             41.0              66.0            41.0, 66.0  \n",
       "2098             41.0              66.0            41.0, 66.0  \n",
       "2099             41.0              66.0            41.0, 66.0  \n",
       "\n",
       "[100 rows x 10 columns]"
      ]
     },
     "execution_count": 99,
     "metadata": {},
     "output_type": "execute_result"
    }
   ],
   "source": [
    "df_e[2000:2100]"
   ]
  },
  {
   "cell_type": "code",
   "execution_count": 100,
   "metadata": {},
   "outputs": [],
   "source": [
    "df_e.to_csv('./data/location_ref/city_multilingu_citycoord_countrycode_countrycoord.csv')"
   ]
  },
  {
   "cell_type": "code",
   "execution_count": null,
   "metadata": {},
   "outputs": [],
   "source": []
  },
  {
   "cell_type": "code",
   "execution_count": null,
   "metadata": {},
   "outputs": [],
   "source": []
  },
  {
   "cell_type": "code",
   "execution_count": null,
   "metadata": {},
   "outputs": [],
   "source": []
  }
 ],
 "metadata": {
  "kernelspec": {
   "display_name": "Python 3",
   "language": "python",
   "name": "python3"
  },
  "language_info": {
   "codemirror_mode": {
    "name": "ipython",
    "version": 3
   },
   "file_extension": ".py",
   "mimetype": "text/x-python",
   "name": "python",
   "nbconvert_exporter": "python",
   "pygments_lexer": "ipython3",
   "version": "3.7.6"
  }
 },
 "nbformat": 4,
 "nbformat_minor": 4
}
