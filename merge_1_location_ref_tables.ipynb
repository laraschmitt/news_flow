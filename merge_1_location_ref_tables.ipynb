{
 "cells": [
  {
   "cell_type": "code",
   "execution_count": 175,
   "metadata": {},
   "outputs": [],
   "source": [
    "import pandas as pd"
   ]
  },
  {
   "cell_type": "code",
   "execution_count": 229,
   "metadata": {},
   "outputs": [
    {
     "data": {
      "text/html": [
       "<div>\n",
       "<style scoped>\n",
       "    .dataframe tbody tr th:only-of-type {\n",
       "        vertical-align: middle;\n",
       "    }\n",
       "\n",
       "    .dataframe tbody tr th {\n",
       "        vertical-align: top;\n",
       "    }\n",
       "\n",
       "    .dataframe thead th {\n",
       "        text-align: right;\n",
       "    }\n",
       "</style>\n",
       "<table border=\"1\" class=\"dataframe\">\n",
       "  <thead>\n",
       "    <tr style=\"text-align: right;\">\n",
       "      <th></th>\n",
       "      <th>city</th>\n",
       "      <th>country</th>\n",
       "      <th>language</th>\n",
       "      <th>cityLabel</th>\n",
       "      <th>alpha2Code</th>\n",
       "      <th>cityCoords</th>\n",
       "    </tr>\n",
       "  </thead>\n",
       "  <tbody>\n",
       "    <tr>\n",
       "      <th>0</th>\n",
       "      <td>http://www.wikidata.org/entity/Q26175</td>\n",
       "      <td>http://www.wikidata.org/entity/Q214</td>\n",
       "      <td>nn</td>\n",
       "      <td>Trnava</td>\n",
       "      <td>SK</td>\n",
       "      <td>Point(17.586211111 48.37775)</td>\n",
       "    </tr>\n",
       "    <tr>\n",
       "      <th>1</th>\n",
       "      <td>http://www.wikidata.org/entity/Q26175</td>\n",
       "      <td>http://www.wikidata.org/entity/Q214</td>\n",
       "      <td>pl</td>\n",
       "      <td>Trnawa</td>\n",
       "      <td>SK</td>\n",
       "      <td>Point(17.586211111 48.37775)</td>\n",
       "    </tr>\n",
       "    <tr>\n",
       "      <th>2</th>\n",
       "      <td>http://www.wikidata.org/entity/Q26175</td>\n",
       "      <td>http://www.wikidata.org/entity/Q214</td>\n",
       "      <td>ps</td>\n",
       "      <td>ترناوا</td>\n",
       "      <td>SK</td>\n",
       "      <td>Point(17.586211111 48.37775)</td>\n",
       "    </tr>\n",
       "    <tr>\n",
       "      <th>3</th>\n",
       "      <td>http://www.wikidata.org/entity/Q26175</td>\n",
       "      <td>http://www.wikidata.org/entity/Q214</td>\n",
       "      <td>ro</td>\n",
       "      <td>Trnava</td>\n",
       "      <td>SK</td>\n",
       "      <td>Point(17.586211111 48.37775)</td>\n",
       "    </tr>\n",
       "    <tr>\n",
       "      <th>4</th>\n",
       "      <td>http://www.wikidata.org/entity/Q26175</td>\n",
       "      <td>http://www.wikidata.org/entity/Q214</td>\n",
       "      <td>rue</td>\n",
       "      <td>Тырнава</td>\n",
       "      <td>SK</td>\n",
       "      <td>Point(17.586211111 48.37775)</td>\n",
       "    </tr>\n",
       "  </tbody>\n",
       "</table>\n",
       "</div>"
      ],
      "text/plain": [
       "                                    city                              country  \\\n",
       "0  http://www.wikidata.org/entity/Q26175  http://www.wikidata.org/entity/Q214   \n",
       "1  http://www.wikidata.org/entity/Q26175  http://www.wikidata.org/entity/Q214   \n",
       "2  http://www.wikidata.org/entity/Q26175  http://www.wikidata.org/entity/Q214   \n",
       "3  http://www.wikidata.org/entity/Q26175  http://www.wikidata.org/entity/Q214   \n",
       "4  http://www.wikidata.org/entity/Q26175  http://www.wikidata.org/entity/Q214   \n",
       "\n",
       "  language cityLabel alpha2Code                    cityCoords  \n",
       "0       nn    Trnava         SK  Point(17.586211111 48.37775)  \n",
       "1       pl    Trnawa         SK  Point(17.586211111 48.37775)  \n",
       "2       ps    ترناوا         SK  Point(17.586211111 48.37775)  \n",
       "3       ro    Trnava         SK  Point(17.586211111 48.37775)  \n",
       "4      rue   Тырнава         SK  Point(17.586211111 48.37775)  "
      ]
     },
     "execution_count": 229,
     "metadata": {},
     "output_type": "execute_result"
    }
   ],
   "source": [
    "df1 = pd.read_csv('./data/location_ref/citynamemulti_councode_cityco.csv')\n",
    "df1 = df1.drop(columns=['city', 'country'])\n",
    "df1.head()"
   ]
  },
  {
   "cell_type": "code",
   "execution_count": 196,
   "metadata": {},
   "outputs": [
    {
     "data": {
      "text/plain": [
       "(1147454, 4)"
      ]
     },
     "execution_count": 196,
     "metadata": {},
     "output_type": "execute_result"
    }
   ],
   "source": [
    "df1.shape  # 1122238"
   ]
  },
  {
   "cell_type": "code",
   "execution_count": 177,
   "metadata": {},
   "outputs": [
    {
     "data": {
      "text/html": [
       "<div>\n",
       "<style scoped>\n",
       "    .dataframe tbody tr th:only-of-type {\n",
       "        vertical-align: middle;\n",
       "    }\n",
       "\n",
       "    .dataframe tbody tr th {\n",
       "        vertical-align: top;\n",
       "    }\n",
       "\n",
       "    .dataframe thead th {\n",
       "        text-align: right;\n",
       "    }\n",
       "</style>\n",
       "<table border=\"1\" class=\"dataframe\">\n",
       "  <thead>\n",
       "    <tr style=\"text-align: right;\">\n",
       "      <th></th>\n",
       "      <th>cityCoords</th>\n",
       "      <th>population</th>\n",
       "    </tr>\n",
       "  </thead>\n",
       "  <tbody>\n",
       "    <tr>\n",
       "      <th>0</th>\n",
       "      <td>Point(14.333333 41.066667)</td>\n",
       "      <td>75561</td>\n",
       "    </tr>\n",
       "    <tr>\n",
       "      <th>1</th>\n",
       "      <td>Point(31.6 4.85)</td>\n",
       "      <td>372410</td>\n",
       "    </tr>\n",
       "    <tr>\n",
       "      <th>2</th>\n",
       "      <td>Point(39.283333333 -6.8)</td>\n",
       "      <td>4715000</td>\n",
       "    </tr>\n",
       "    <tr>\n",
       "      <th>3</th>\n",
       "      <td>Point(32.52654 15.60308)</td>\n",
       "      <td>5345000</td>\n",
       "    </tr>\n",
       "    <tr>\n",
       "      <th>4</th>\n",
       "      <td>Point(10.992777777 45.438611111)</td>\n",
       "      <td>252520</td>\n",
       "    </tr>\n",
       "  </tbody>\n",
       "</table>\n",
       "</div>"
      ],
      "text/plain": [
       "                         cityCoords population\n",
       "0        Point(14.333333 41.066667)      75561\n",
       "1                  Point(31.6 4.85)     372410\n",
       "2          Point(39.283333333 -6.8)    4715000\n",
       "3          Point(32.52654 15.60308)    5345000\n",
       "4  Point(10.992777777 45.438611111)     252520"
      ]
     },
     "execution_count": 177,
     "metadata": {},
     "output_type": "execute_result"
    }
   ],
   "source": [
    "df2 = pd.read_csv('./data/location_ref/cityco_citypop.csv')\n",
    "df2 = df2.drop(columns=['city', 'cityLabel'])\n",
    "df2 = df2.drop_duplicates() # remove duplicates\n",
    "df2.head()"
   ]
  },
  {
   "cell_type": "code",
   "execution_count": 178,
   "metadata": {
    "scrolled": true
   },
   "outputs": [
    {
     "data": {
      "text/plain": [
       "(24372, 2)"
      ]
     },
     "execution_count": 178,
     "metadata": {},
     "output_type": "execute_result"
    }
   ],
   "source": [
    "df2.shape"
   ]
  },
  {
   "cell_type": "code",
   "execution_count": 179,
   "metadata": {
    "scrolled": true
   },
   "outputs": [
    {
     "data": {
      "text/plain": [
       "28046"
      ]
     },
     "execution_count": 179,
     "metadata": {},
     "output_type": "execute_result"
    }
   ],
   "source": [
    "df1['cityCoords'].nunique()"
   ]
  },
  {
   "cell_type": "code",
   "execution_count": 180,
   "metadata": {},
   "outputs": [
    {
     "data": {
      "text/plain": [
       "(28046, 1)"
      ]
     },
     "execution_count": 180,
     "metadata": {},
     "output_type": "execute_result"
    }
   ],
   "source": [
    "df_co = pd.DataFrame(df1['cityCoords'].unique())\n",
    "df_co = df_co.rename(columns = {0: 'cityCoords'})\n",
    "df_co.shape"
   ]
  },
  {
   "cell_type": "code",
   "execution_count": 181,
   "metadata": {
    "scrolled": true
   },
   "outputs": [
    {
     "data": {
      "text/plain": [
       "(24351, 2)"
      ]
     },
     "execution_count": 181,
     "metadata": {},
     "output_type": "execute_result"
    }
   ],
   "source": [
    "### remove all the city coordinates that do not appear in the other list\n",
    "df3 = df2.merge(df_co, how='inner', on='cityCoords',suffixes=(False, False))\n",
    "#df3 = df3.dropna()\n",
    "df3.shape"
   ]
  },
  {
   "cell_type": "code",
   "execution_count": 182,
   "metadata": {},
   "outputs": [
    {
     "data": {
      "text/plain": [
       "24351"
      ]
     },
     "execution_count": 182,
     "metadata": {},
     "output_type": "execute_result"
    }
   ],
   "source": [
    "ll = df3['cityCoords'].to_list()\n",
    "len(ll)"
   ]
  },
  {
   "cell_type": "code",
   "execution_count": 188,
   "metadata": {},
   "outputs": [
    {
     "data": {
      "text/plain": [
       "(21,)"
      ]
     },
     "execution_count": 188,
     "metadata": {},
     "output_type": "execute_result"
    }
   ],
   "source": [
    "inverse_boolean_series = ~(df4.cityCoords).isin(df3.cityCoords)\n",
    "inverse_filtered_df = df4.cityCoords[inverse_boolean_series]\n",
    "inverse_filtered_df.shape"
   ]
  },
  {
   "cell_type": "code",
   "execution_count": 220,
   "metadata": {},
   "outputs": [
    {
     "data": {
      "text/plain": [
       "(24351, 2)"
      ]
     },
     "execution_count": 220,
     "metadata": {},
     "output_type": "execute_result"
    }
   ],
   "source": [
    "df6 = df4[df4['cityCoords'].isin(ll)]\n",
    "df6.shape"
   ]
  },
  {
   "cell_type": "code",
   "execution_count": 221,
   "metadata": {},
   "outputs": [
    {
     "data": {
      "text/plain": [
       "(1024614, 4)"
      ]
     },
     "execution_count": 221,
     "metadata": {},
     "output_type": "execute_result"
    }
   ],
   "source": [
    "df1 = df1[df1['cityCoords'].isin(ll)]\n",
    "df1.shape"
   ]
  },
  {
   "cell_type": "code",
   "execution_count": 222,
   "metadata": {},
   "outputs": [
    {
     "data": {
      "text/plain": [
       "21859"
      ]
     },
     "execution_count": 222,
     "metadata": {},
     "output_type": "execute_result"
    }
   ],
   "source": [
    "df1['cityCoords'].nunique()  # left 28046 right 21859"
   ]
  },
  {
   "cell_type": "markdown",
   "metadata": {},
   "source": [
    "### Merge to final df"
   ]
  },
  {
   "cell_type": "code",
   "execution_count": 223,
   "metadata": {},
   "outputs": [
    {
     "data": {
      "text/plain": [
       "(1122238, 5)"
      ]
     },
     "execution_count": 223,
     "metadata": {},
     "output_type": "execute_result"
    }
   ],
   "source": [
    "df = df1.merge(df6, how='right', on='cityCoords',suffixes=(False, False))\n",
    "df.shape"
   ]
  },
  {
   "cell_type": "code",
   "execution_count": 224,
   "metadata": {},
   "outputs": [
    {
     "data": {
      "text/plain": [
       "21859"
      ]
     },
     "execution_count": 224,
     "metadata": {},
     "output_type": "execute_result"
    }
   ],
   "source": [
    "df['cityCoords'].nunique()  # left 28046 right 21859"
   ]
  },
  {
   "cell_type": "code",
   "execution_count": 225,
   "metadata": {
    "scrolled": true
   },
   "outputs": [
    {
     "data": {
      "text/html": [
       "<div>\n",
       "<style scoped>\n",
       "    .dataframe tbody tr th:only-of-type {\n",
       "        vertical-align: middle;\n",
       "    }\n",
       "\n",
       "    .dataframe tbody tr th {\n",
       "        vertical-align: top;\n",
       "    }\n",
       "\n",
       "    .dataframe thead th {\n",
       "        text-align: right;\n",
       "    }\n",
       "</style>\n",
       "<table border=\"1\" class=\"dataframe\">\n",
       "  <thead>\n",
       "    <tr style=\"text-align: right;\">\n",
       "      <th></th>\n",
       "      <th>language</th>\n",
       "      <th>cityLabel</th>\n",
       "      <th>alpha2Code</th>\n",
       "      <th>cityCoords</th>\n",
       "      <th>population</th>\n",
       "    </tr>\n",
       "  </thead>\n",
       "  <tbody>\n",
       "    <tr>\n",
       "      <th>0</th>\n",
       "      <td>nn</td>\n",
       "      <td>Trnava</td>\n",
       "      <td>SK</td>\n",
       "      <td>Point(17.586211111 48.37775)</td>\n",
       "      <td>65382</td>\n",
       "    </tr>\n",
       "    <tr>\n",
       "      <th>1</th>\n",
       "      <td>pl</td>\n",
       "      <td>Trnawa</td>\n",
       "      <td>SK</td>\n",
       "      <td>Point(17.586211111 48.37775)</td>\n",
       "      <td>65382</td>\n",
       "    </tr>\n",
       "    <tr>\n",
       "      <th>2</th>\n",
       "      <td>ps</td>\n",
       "      <td>ترناوا</td>\n",
       "      <td>SK</td>\n",
       "      <td>Point(17.586211111 48.37775)</td>\n",
       "      <td>65382</td>\n",
       "    </tr>\n",
       "    <tr>\n",
       "      <th>3</th>\n",
       "      <td>ro</td>\n",
       "      <td>Trnava</td>\n",
       "      <td>SK</td>\n",
       "      <td>Point(17.586211111 48.37775)</td>\n",
       "      <td>65382</td>\n",
       "    </tr>\n",
       "    <tr>\n",
       "      <th>4</th>\n",
       "      <td>rue</td>\n",
       "      <td>Тырнава</td>\n",
       "      <td>SK</td>\n",
       "      <td>Point(17.586211111 48.37775)</td>\n",
       "      <td>65382</td>\n",
       "    </tr>\n",
       "  </tbody>\n",
       "</table>\n",
       "</div>"
      ],
      "text/plain": [
       "  language cityLabel alpha2Code                    cityCoords population\n",
       "0       nn    Trnava         SK  Point(17.586211111 48.37775)      65382\n",
       "1       pl    Trnawa         SK  Point(17.586211111 48.37775)      65382\n",
       "2       ps    ترناوا         SK  Point(17.586211111 48.37775)      65382\n",
       "3       ro    Trnava         SK  Point(17.586211111 48.37775)      65382\n",
       "4      rue   Тырнава         SK  Point(17.586211111 48.37775)      65382"
      ]
     },
     "execution_count": 225,
     "metadata": {},
     "output_type": "execute_result"
    }
   ],
   "source": [
    "df.head()"
   ]
  },
  {
   "cell_type": "code",
   "execution_count": 234,
   "metadata": {},
   "outputs": [],
   "source": [
    "df.to_csv('./data/location_ref/citynamemulti_councode_cityco_citypop.csv')"
   ]
  },
  {
   "cell_type": "code",
   "execution_count": 227,
   "metadata": {},
   "outputs": [
    {
     "data": {
      "text/plain": [
       "(1122238, 5)"
      ]
     },
     "execution_count": 227,
     "metadata": {},
     "output_type": "execute_result"
    }
   ],
   "source": [
    "df.shape"
   ]
  }
 ],
 "metadata": {
  "kernelspec": {
   "display_name": "Python 3",
   "language": "python",
   "name": "python3"
  },
  "language_info": {
   "codemirror_mode": {
    "name": "ipython",
    "version": 3
   },
   "file_extension": ".py",
   "mimetype": "text/x-python",
   "name": "python",
   "nbconvert_exporter": "python",
   "pygments_lexer": "ipython3",
   "version": "3.7.6"
  }
 },
 "nbformat": 4,
 "nbformat_minor": 4
}
