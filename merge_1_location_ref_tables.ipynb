{
 "cells": [
  {
   "cell_type": "code",
   "execution_count": 22,
   "metadata": {},
   "outputs": [],
   "source": [
    "import pandas as pd"
   ]
  },
  {
   "cell_type": "code",
   "execution_count": 23,
   "metadata": {},
   "outputs": [
    {
     "data": {
      "text/html": [
       "<div>\n",
       "<style scoped>\n",
       "    .dataframe tbody tr th:only-of-type {\n",
       "        vertical-align: middle;\n",
       "    }\n",
       "\n",
       "    .dataframe tbody tr th {\n",
       "        vertical-align: top;\n",
       "    }\n",
       "\n",
       "    .dataframe thead th {\n",
       "        text-align: right;\n",
       "    }\n",
       "</style>\n",
       "<table border=\"1\" class=\"dataframe\">\n",
       "  <thead>\n",
       "    <tr style=\"text-align: right;\">\n",
       "      <th></th>\n",
       "      <th>language</th>\n",
       "      <th>cityLabel</th>\n",
       "      <th>alpha2Code</th>\n",
       "      <th>cityCoords</th>\n",
       "    </tr>\n",
       "  </thead>\n",
       "  <tbody>\n",
       "    <tr>\n",
       "      <th>0</th>\n",
       "      <td>nn</td>\n",
       "      <td>Trnava</td>\n",
       "      <td>SK</td>\n",
       "      <td>Point(17.586211111 48.37775)</td>\n",
       "    </tr>\n",
       "    <tr>\n",
       "      <th>1</th>\n",
       "      <td>pl</td>\n",
       "      <td>Trnawa</td>\n",
       "      <td>SK</td>\n",
       "      <td>Point(17.586211111 48.37775)</td>\n",
       "    </tr>\n",
       "    <tr>\n",
       "      <th>2</th>\n",
       "      <td>ps</td>\n",
       "      <td>ترناوا</td>\n",
       "      <td>SK</td>\n",
       "      <td>Point(17.586211111 48.37775)</td>\n",
       "    </tr>\n",
       "    <tr>\n",
       "      <th>3</th>\n",
       "      <td>ro</td>\n",
       "      <td>Trnava</td>\n",
       "      <td>SK</td>\n",
       "      <td>Point(17.586211111 48.37775)</td>\n",
       "    </tr>\n",
       "    <tr>\n",
       "      <th>4</th>\n",
       "      <td>rue</td>\n",
       "      <td>Тырнава</td>\n",
       "      <td>SK</td>\n",
       "      <td>Point(17.586211111 48.37775)</td>\n",
       "    </tr>\n",
       "  </tbody>\n",
       "</table>\n",
       "</div>"
      ],
      "text/plain": [
       "  language cityLabel alpha2Code                    cityCoords\n",
       "0       nn    Trnava         SK  Point(17.586211111 48.37775)\n",
       "1       pl    Trnawa         SK  Point(17.586211111 48.37775)\n",
       "2       ps    ترناوا         SK  Point(17.586211111 48.37775)\n",
       "3       ro    Trnava         SK  Point(17.586211111 48.37775)\n",
       "4      rue   Тырнава         SK  Point(17.586211111 48.37775)"
      ]
     },
     "execution_count": 23,
     "metadata": {},
     "output_type": "execute_result"
    }
   ],
   "source": [
    "df1 = pd.read_csv('./data/location_ref/citynamemulti_councode_cityco.csv')\n",
    "df1 = df1.drop(columns=['city', 'country'])\n",
    "df1.head()"
   ]
  },
  {
   "cell_type": "code",
   "execution_count": 24,
   "metadata": {},
   "outputs": [
    {
     "data": {
      "text/plain": [
       "(1147454, 4)"
      ]
     },
     "execution_count": 24,
     "metadata": {},
     "output_type": "execute_result"
    }
   ],
   "source": [
    "df1.shape  # 1122238"
   ]
  },
  {
   "cell_type": "code",
   "execution_count": 25,
   "metadata": {},
   "outputs": [
    {
     "data": {
      "text/html": [
       "<div>\n",
       "<style scoped>\n",
       "    .dataframe tbody tr th:only-of-type {\n",
       "        vertical-align: middle;\n",
       "    }\n",
       "\n",
       "    .dataframe tbody tr th {\n",
       "        vertical-align: top;\n",
       "    }\n",
       "\n",
       "    .dataframe thead th {\n",
       "        text-align: right;\n",
       "    }\n",
       "</style>\n",
       "<table border=\"1\" class=\"dataframe\">\n",
       "  <thead>\n",
       "    <tr style=\"text-align: right;\">\n",
       "      <th></th>\n",
       "      <th>cityCoords</th>\n",
       "      <th>population</th>\n",
       "    </tr>\n",
       "  </thead>\n",
       "  <tbody>\n",
       "    <tr>\n",
       "      <th>0</th>\n",
       "      <td>Point(14.333333 41.066667)</td>\n",
       "      <td>75561</td>\n",
       "    </tr>\n",
       "    <tr>\n",
       "      <th>1</th>\n",
       "      <td>Point(31.6 4.85)</td>\n",
       "      <td>372410</td>\n",
       "    </tr>\n",
       "    <tr>\n",
       "      <th>2</th>\n",
       "      <td>Point(39.283333333 -6.8)</td>\n",
       "      <td>4715000</td>\n",
       "    </tr>\n",
       "    <tr>\n",
       "      <th>3</th>\n",
       "      <td>Point(32.52654 15.60308)</td>\n",
       "      <td>5345000</td>\n",
       "    </tr>\n",
       "    <tr>\n",
       "      <th>4</th>\n",
       "      <td>Point(10.992777777 45.438611111)</td>\n",
       "      <td>252520</td>\n",
       "    </tr>\n",
       "  </tbody>\n",
       "</table>\n",
       "</div>"
      ],
      "text/plain": [
       "                         cityCoords population\n",
       "0        Point(14.333333 41.066667)      75561\n",
       "1                  Point(31.6 4.85)     372410\n",
       "2          Point(39.283333333 -6.8)    4715000\n",
       "3          Point(32.52654 15.60308)    5345000\n",
       "4  Point(10.992777777 45.438611111)     252520"
      ]
     },
     "execution_count": 25,
     "metadata": {},
     "output_type": "execute_result"
    }
   ],
   "source": [
    "df2 = pd.read_csv('./data/location_ref/cityco_citypop.csv')\n",
    "df2 = df2.drop(columns=['city', 'cityLabel'])\n",
    "df2 = df2.drop_duplicates() # remove duplicates\n",
    "df2.head()"
   ]
  },
  {
   "cell_type": "code",
   "execution_count": 26,
   "metadata": {
    "scrolled": true
   },
   "outputs": [
    {
     "data": {
      "text/plain": [
       "(24372, 2)"
      ]
     },
     "execution_count": 26,
     "metadata": {},
     "output_type": "execute_result"
    }
   ],
   "source": [
    "df2.shape"
   ]
  },
  {
   "cell_type": "code",
   "execution_count": 27,
   "metadata": {
    "scrolled": true
   },
   "outputs": [
    {
     "data": {
      "text/plain": [
       "28046"
      ]
     },
     "execution_count": 27,
     "metadata": {},
     "output_type": "execute_result"
    }
   ],
   "source": [
    "df1['cityCoords'].nunique()"
   ]
  },
  {
   "cell_type": "code",
   "execution_count": 28,
   "metadata": {},
   "outputs": [
    {
     "data": {
      "text/plain": [
       "(28046, 1)"
      ]
     },
     "execution_count": 28,
     "metadata": {},
     "output_type": "execute_result"
    }
   ],
   "source": [
    "df_co = pd.DataFrame(df1['cityCoords'].unique())\n",
    "df_co = df_co.rename(columns = {0: 'cityCoords'})\n",
    "df_co.shape"
   ]
  },
  {
   "cell_type": "code",
   "execution_count": 29,
   "metadata": {
    "scrolled": true
   },
   "outputs": [
    {
     "data": {
      "text/plain": [
       "(24351, 2)"
      ]
     },
     "execution_count": 29,
     "metadata": {},
     "output_type": "execute_result"
    }
   ],
   "source": [
    "### remove all the city coordinates that do not appear in the other list\n",
    "df3 = df2.merge(df_co, how='inner', on='cityCoords',suffixes=(False, False))\n",
    "#df3 = df3.dropna()\n",
    "df3.shape"
   ]
  },
  {
   "cell_type": "code",
   "execution_count": 30,
   "metadata": {},
   "outputs": [
    {
     "data": {
      "text/plain": [
       "24351"
      ]
     },
     "execution_count": 30,
     "metadata": {},
     "output_type": "execute_result"
    }
   ],
   "source": [
    "ll = df3['cityCoords'].to_list()\n",
    "len(ll)"
   ]
  },
  {
   "cell_type": "code",
   "execution_count": 31,
   "metadata": {},
   "outputs": [
    {
     "data": {
      "text/plain": [
       "(21,)"
      ]
     },
     "execution_count": 31,
     "metadata": {},
     "output_type": "execute_result"
    }
   ],
   "source": [
    "inverse_boolean_series = ~(df2.cityCoords).isin(df3.cityCoords)\n",
    "inverse_filtered_df = df2.cityCoords[inverse_boolean_series]\n",
    "inverse_filtered_df.shape"
   ]
  },
  {
   "cell_type": "code",
   "execution_count": 32,
   "metadata": {},
   "outputs": [
    {
     "data": {
      "text/plain": [
       "(24351, 2)"
      ]
     },
     "execution_count": 32,
     "metadata": {},
     "output_type": "execute_result"
    }
   ],
   "source": [
    "df6 = df3[df3['cityCoords'].isin(ll)]\n",
    "df6.shape"
   ]
  },
  {
   "cell_type": "code",
   "execution_count": 33,
   "metadata": {},
   "outputs": [
    {
     "data": {
      "text/plain": [
       "(1024614, 4)"
      ]
     },
     "execution_count": 33,
     "metadata": {},
     "output_type": "execute_result"
    }
   ],
   "source": [
    "df1 = df1[df1['cityCoords'].isin(ll)]\n",
    "df1.shape"
   ]
  },
  {
   "cell_type": "code",
   "execution_count": 34,
   "metadata": {},
   "outputs": [
    {
     "data": {
      "text/plain": [
       "21859"
      ]
     },
     "execution_count": 34,
     "metadata": {},
     "output_type": "execute_result"
    }
   ],
   "source": [
    "df1['cityCoords'].nunique()  # left 28046 right 21859"
   ]
  },
  {
   "cell_type": "markdown",
   "metadata": {},
   "source": [
    "### Merge to final df"
   ]
  },
  {
   "cell_type": "code",
   "execution_count": 35,
   "metadata": {},
   "outputs": [
    {
     "data": {
      "text/plain": [
       "21859"
      ]
     },
     "execution_count": 35,
     "metadata": {},
     "output_type": "execute_result"
    }
   ],
   "source": [
    "df1['cityCoords'].nunique()  # left 28046 right 21859"
   ]
  },
  {
   "cell_type": "code",
   "execution_count": 36,
   "metadata": {},
   "outputs": [
    {
     "data": {
      "text/plain": [
       "(1122238, 5)"
      ]
     },
     "execution_count": 36,
     "metadata": {},
     "output_type": "execute_result"
    }
   ],
   "source": [
    "df = df1.merge(df6, how='right', on='cityCoords',suffixes=(False, False))\n",
    "df.shape"
   ]
  },
  {
   "cell_type": "code",
   "execution_count": 37,
   "metadata": {
    "scrolled": true
   },
   "outputs": [
    {
     "data": {
      "text/html": [
       "<div>\n",
       "<style scoped>\n",
       "    .dataframe tbody tr th:only-of-type {\n",
       "        vertical-align: middle;\n",
       "    }\n",
       "\n",
       "    .dataframe tbody tr th {\n",
       "        vertical-align: top;\n",
       "    }\n",
       "\n",
       "    .dataframe thead th {\n",
       "        text-align: right;\n",
       "    }\n",
       "</style>\n",
       "<table border=\"1\" class=\"dataframe\">\n",
       "  <thead>\n",
       "    <tr style=\"text-align: right;\">\n",
       "      <th></th>\n",
       "      <th>language</th>\n",
       "      <th>cityLabel</th>\n",
       "      <th>alpha2Code</th>\n",
       "      <th>cityCoords</th>\n",
       "      <th>population</th>\n",
       "    </tr>\n",
       "  </thead>\n",
       "  <tbody>\n",
       "    <tr>\n",
       "      <th>0</th>\n",
       "      <td>nn</td>\n",
       "      <td>Trnava</td>\n",
       "      <td>SK</td>\n",
       "      <td>Point(17.586211111 48.37775)</td>\n",
       "      <td>65382</td>\n",
       "    </tr>\n",
       "    <tr>\n",
       "      <th>1</th>\n",
       "      <td>pl</td>\n",
       "      <td>Trnawa</td>\n",
       "      <td>SK</td>\n",
       "      <td>Point(17.586211111 48.37775)</td>\n",
       "      <td>65382</td>\n",
       "    </tr>\n",
       "    <tr>\n",
       "      <th>2</th>\n",
       "      <td>ps</td>\n",
       "      <td>ترناوا</td>\n",
       "      <td>SK</td>\n",
       "      <td>Point(17.586211111 48.37775)</td>\n",
       "      <td>65382</td>\n",
       "    </tr>\n",
       "    <tr>\n",
       "      <th>3</th>\n",
       "      <td>ro</td>\n",
       "      <td>Trnava</td>\n",
       "      <td>SK</td>\n",
       "      <td>Point(17.586211111 48.37775)</td>\n",
       "      <td>65382</td>\n",
       "    </tr>\n",
       "    <tr>\n",
       "      <th>4</th>\n",
       "      <td>rue</td>\n",
       "      <td>Тырнава</td>\n",
       "      <td>SK</td>\n",
       "      <td>Point(17.586211111 48.37775)</td>\n",
       "      <td>65382</td>\n",
       "    </tr>\n",
       "  </tbody>\n",
       "</table>\n",
       "</div>"
      ],
      "text/plain": [
       "  language cityLabel alpha2Code                    cityCoords population\n",
       "0       nn    Trnava         SK  Point(17.586211111 48.37775)      65382\n",
       "1       pl    Trnawa         SK  Point(17.586211111 48.37775)      65382\n",
       "2       ps    ترناوا         SK  Point(17.586211111 48.37775)      65382\n",
       "3       ro    Trnava         SK  Point(17.586211111 48.37775)      65382\n",
       "4      rue   Тырнава         SK  Point(17.586211111 48.37775)      65382"
      ]
     },
     "execution_count": 37,
     "metadata": {},
     "output_type": "execute_result"
    }
   ],
   "source": [
    "df.head()"
   ]
  },
  {
   "cell_type": "code",
   "execution_count": 38,
   "metadata": {},
   "outputs": [
    {
     "data": {
      "text/plain": [
       "(1122238, 5)"
      ]
     },
     "execution_count": 38,
     "metadata": {},
     "output_type": "execute_result"
    }
   ],
   "source": [
    "df.shape"
   ]
  },
  {
   "cell_type": "markdown",
   "metadata": {},
   "source": [
    "### Final cleanup steps"
   ]
  },
  {
   "cell_type": "code",
   "execution_count": 39,
   "metadata": {},
   "outputs": [],
   "source": [
    "# remove duplicates cityLabel entries\n",
    "df_dup_free = df[~df['cityLabel'].duplicated()]"
   ]
  },
  {
   "cell_type": "code",
   "execution_count": 40,
   "metadata": {},
   "outputs": [
    {
     "data": {
      "text/plain": [
       "(328486, 5)"
      ]
     },
     "execution_count": 40,
     "metadata": {},
     "output_type": "execute_result"
    }
   ],
   "source": [
    "df_dup_free.shape"
   ]
  },
  {
   "cell_type": "markdown",
   "metadata": {},
   "source": [
    "### replace weird letters in popualtion column and cast column to float \n"
   ]
  },
  {
   "cell_type": "code",
   "execution_count": 42,
   "metadata": {},
   "outputs": [
    {
     "name": "stderr",
     "output_type": "stream",
     "text": [
      "/Users/lara/anaconda3/lib/python3.7/site-packages/ipykernel_launcher.py:1: SettingWithCopyWarning: \n",
      "A value is trying to be set on a copy of a slice from a DataFrame.\n",
      "Try using .loc[row_indexer,col_indexer] = value instead\n",
      "\n",
      "See the caveats in the documentation: https://pandas.pydata.org/pandas-docs/stable/user_guide/indexing.html#returning-a-view-versus-a-copy\n",
      "  \"\"\"Entry point for launching an IPython kernel.\n"
     ]
    }
   ],
   "source": [
    "df_dup_free['population'] = df_dup_free['population'].str.replace(r'[a-zA-Z]', '').astype('float')"
   ]
  },
  {
   "cell_type": "code",
   "execution_count": 44,
   "metadata": {},
   "outputs": [
    {
     "data": {
      "text/plain": [
       "(52345, 5)"
      ]
     },
     "execution_count": 44,
     "metadata": {},
     "output_type": "execute_result"
    }
   ],
   "source": [
    "# kick out small cities (pop size < 300000)\n",
    "df_dup_free = df_dup_free[df_dup_free['population'] >= 300000]\n",
    "df_dup_free.shape"
   ]
  },
  {
   "cell_type": "markdown",
   "metadata": {},
   "source": [
    "### Reorder cordinate cols"
   ]
  },
  {
   "cell_type": "code",
   "execution_count": 45,
   "metadata": {},
   "outputs": [],
   "source": [
    "# reame columns\n",
    "df_d = df_dup_free.rename({'alpha2Code': 'COUNTRY_ALPHA2_CODE', \n",
    "                                      'cityLabel': 'CITY_NAME', \n",
    "                                      'cityCoords': 'city_long_lat_3857'}, axis='columns')"
   ]
  },
  {
   "cell_type": "code",
   "execution_count": 46,
   "metadata": {},
   "outputs": [],
   "source": [
    "df_d['city_long_lat_3857'] = df_d['city_long_lat_3857'].replace(\"Point\\(\", \"\", regex=True).replace(\" \", \", \", regex=True).replace(\"\\)\", \"\", regex=True)"
   ]
  },
  {
   "cell_type": "code",
   "execution_count": 47,
   "metadata": {},
   "outputs": [],
   "source": [
    "#df_d['city_long_lat_3857'] = df_d['city_long_lat_3857'].apply(lambda x:pd.Series(x.split()[::-1]))\n",
    "\n",
    "\n",
    "# converting to string series \n",
    "df_d['city_long_lat_3857']= df_d['city_long_lat_3857'].astype(str) \n",
    "  \n",
    "# splitting at occurrence of whitespace \n",
    "df_d['city_long_lat_3857']= df_d['city_long_lat_3857'].str.split(\",\", 1) \n",
    "  \n",
    "# displaying second element from list \n",
    "df_d['city_lat_3857']  = df_d['city_long_lat_3857'].str.get(1) \n",
    "\n",
    "# displaying first element from list \n",
    "df_d['city_long_3857']  = df_d['city_long_lat_3857'].str.get(0) "
   ]
  },
  {
   "cell_type": "code",
   "execution_count": 48,
   "metadata": {},
   "outputs": [],
   "source": [
    "df_d['city_lat_long_3857'] = df_d['city_lat_3857'] + \", \" + df_d['city_long_3857'] \n",
    "df_d = df_d.drop(columns='city_long_lat_3857')"
   ]
  },
  {
   "cell_type": "code",
   "execution_count": 49,
   "metadata": {
    "scrolled": true
   },
   "outputs": [
    {
     "data": {
      "text/html": [
       "<div>\n",
       "<style scoped>\n",
       "    .dataframe tbody tr th:only-of-type {\n",
       "        vertical-align: middle;\n",
       "    }\n",
       "\n",
       "    .dataframe tbody tr th {\n",
       "        vertical-align: top;\n",
       "    }\n",
       "\n",
       "    .dataframe thead th {\n",
       "        text-align: right;\n",
       "    }\n",
       "</style>\n",
       "<table border=\"1\" class=\"dataframe\">\n",
       "  <thead>\n",
       "    <tr style=\"text-align: right;\">\n",
       "      <th></th>\n",
       "      <th>language</th>\n",
       "      <th>CITY_NAME</th>\n",
       "      <th>COUNTRY_ALPHA2_CODE</th>\n",
       "      <th>population</th>\n",
       "      <th>city_lat_3857</th>\n",
       "      <th>city_long_3857</th>\n",
       "      <th>city_lat_long_3857</th>\n",
       "    </tr>\n",
       "  </thead>\n",
       "  <tbody>\n",
       "    <tr>\n",
       "      <th>81</th>\n",
       "      <td>pl</td>\n",
       "      <td>Nowy Jork</td>\n",
       "      <td>US</td>\n",
       "      <td>8398748.0</td>\n",
       "      <td>40.67</td>\n",
       "      <td>-73.94</td>\n",
       "      <td>40.67, -73.94</td>\n",
       "    </tr>\n",
       "    <tr>\n",
       "      <th>82</th>\n",
       "      <td>en</td>\n",
       "      <td>New York City</td>\n",
       "      <td>US</td>\n",
       "      <td>8398748.0</td>\n",
       "      <td>40.67</td>\n",
       "      <td>-73.94</td>\n",
       "      <td>40.67, -73.94</td>\n",
       "    </tr>\n",
       "    <tr>\n",
       "      <th>83</th>\n",
       "      <td>fi</td>\n",
       "      <td>New York</td>\n",
       "      <td>US</td>\n",
       "      <td>8398748.0</td>\n",
       "      <td>40.67</td>\n",
       "      <td>-73.94</td>\n",
       "      <td>40.67, -73.94</td>\n",
       "    </tr>\n",
       "    <tr>\n",
       "      <th>84</th>\n",
       "      <td>he</td>\n",
       "      <td>ניו יורק</td>\n",
       "      <td>US</td>\n",
       "      <td>8398748.0</td>\n",
       "      <td>40.67</td>\n",
       "      <td>-73.94</td>\n",
       "      <td>40.67, -73.94</td>\n",
       "    </tr>\n",
       "    <tr>\n",
       "      <th>88</th>\n",
       "      <td>ru</td>\n",
       "      <td>Нью-Йорк</td>\n",
       "      <td>US</td>\n",
       "      <td>8398748.0</td>\n",
       "      <td>40.67</td>\n",
       "      <td>-73.94</td>\n",
       "      <td>40.67, -73.94</td>\n",
       "    </tr>\n",
       "  </tbody>\n",
       "</table>\n",
       "</div>"
      ],
      "text/plain": [
       "   language      CITY_NAME COUNTRY_ALPHA2_CODE  population city_lat_3857  \\\n",
       "81       pl      Nowy Jork                  US   8398748.0         40.67   \n",
       "82       en  New York City                  US   8398748.0         40.67   \n",
       "83       fi       New York                  US   8398748.0         40.67   \n",
       "84       he       ניו יורק                  US   8398748.0         40.67   \n",
       "88       ru       Нью-Йорк                  US   8398748.0         40.67   \n",
       "\n",
       "   city_long_3857 city_lat_long_3857  \n",
       "81         -73.94      40.67, -73.94  \n",
       "82         -73.94      40.67, -73.94  \n",
       "83         -73.94      40.67, -73.94  \n",
       "84         -73.94      40.67, -73.94  \n",
       "88         -73.94      40.67, -73.94  "
      ]
     },
     "execution_count": 49,
     "metadata": {},
     "output_type": "execute_result"
    }
   ],
   "source": [
    "df_d.head()"
   ]
  },
  {
   "cell_type": "markdown",
   "metadata": {},
   "source": [
    "### Export"
   ]
  },
  {
   "cell_type": "code",
   "execution_count": 50,
   "metadata": {},
   "outputs": [],
   "source": [
    "df_d.to_csv('./data/location_ref/citynamemulti_councode_cityco_citypop.csv')"
   ]
  },
  {
   "cell_type": "code",
   "execution_count": null,
   "metadata": {},
   "outputs": [],
   "source": []
  }
 ],
 "metadata": {
  "kernelspec": {
   "display_name": "Python 3",
   "language": "python",
   "name": "python3"
  },
  "language_info": {
   "codemirror_mode": {
    "name": "ipython",
    "version": 3
   },
   "file_extension": ".py",
   "mimetype": "text/x-python",
   "name": "python",
   "nbconvert_exporter": "python",
   "pygments_lexer": "ipython3",
   "version": "3.7.6"
  }
 },
 "nbformat": 4,
 "nbformat_minor": 4
}
