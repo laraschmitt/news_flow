{
 "cells": [
  {
   "cell_type": "code",
   "execution_count": 22,
   "metadata": {},
   "outputs": [],
   "source": [
    "import pandas as pd"
   ]
  },
  {
   "cell_type": "markdown",
   "metadata": {},
   "source": [
    "### load table countrycode - countrycoords and preprocess"
   ]
  },
  {
   "cell_type": "code",
   "execution_count": 23,
   "metadata": {},
   "outputs": [
    {
     "data": {
      "text/html": [
       "<div>\n",
       "<style scoped>\n",
       "    .dataframe tbody tr th:only-of-type {\n",
       "        vertical-align: middle;\n",
       "    }\n",
       "\n",
       "    .dataframe tbody tr th {\n",
       "        vertical-align: top;\n",
       "    }\n",
       "\n",
       "    .dataframe thead th {\n",
       "        text-align: right;\n",
       "    }\n",
       "</style>\n",
       "<table border=\"1\" class=\"dataframe\">\n",
       "  <thead>\n",
       "    <tr style=\"text-align: right;\">\n",
       "      <th></th>\n",
       "      <th>country</th>\n",
       "      <th>COUNTRY_ALPHA2_CODE</th>\n",
       "      <th>countryCoords</th>\n",
       "    </tr>\n",
       "  </thead>\n",
       "  <tbody>\n",
       "    <tr>\n",
       "      <th>0</th>\n",
       "      <td>http://www.wikidata.org/entity/Q5785</td>\n",
       "      <td>KY</td>\n",
       "      <td>Point(-80.5 19.5)</td>\n",
       "    </tr>\n",
       "    <tr>\n",
       "      <th>1</th>\n",
       "      <td>http://www.wikidata.org/entity/Q963</td>\n",
       "      <td>BW</td>\n",
       "      <td>Point(23.7 -22.2)</td>\n",
       "    </tr>\n",
       "    <tr>\n",
       "      <th>2</th>\n",
       "      <td>http://www.wikidata.org/entity/Q924</td>\n",
       "      <td>TZ</td>\n",
       "      <td>Point(34.854 -6.307)</td>\n",
       "    </tr>\n",
       "    <tr>\n",
       "      <th>3</th>\n",
       "      <td>http://www.wikidata.org/entity/Q117</td>\n",
       "      <td>GH</td>\n",
       "      <td>Point(-0.5 8.0)</td>\n",
       "    </tr>\n",
       "    <tr>\n",
       "      <th>4</th>\n",
       "      <td>http://www.wikidata.org/entity/Q16644</td>\n",
       "      <td>MP</td>\n",
       "      <td>Point(145.78 16.705)</td>\n",
       "    </tr>\n",
       "  </tbody>\n",
       "</table>\n",
       "</div>"
      ],
      "text/plain": [
       "                                 country COUNTRY_ALPHA2_CODE  \\\n",
       "0   http://www.wikidata.org/entity/Q5785                  KY   \n",
       "1    http://www.wikidata.org/entity/Q963                  BW   \n",
       "2    http://www.wikidata.org/entity/Q924                  TZ   \n",
       "3    http://www.wikidata.org/entity/Q117                  GH   \n",
       "4  http://www.wikidata.org/entity/Q16644                  MP   \n",
       "\n",
       "          countryCoords  \n",
       "0     Point(-80.5 19.5)  \n",
       "1     Point(23.7 -22.2)  \n",
       "2  Point(34.854 -6.307)  \n",
       "3       Point(-0.5 8.0)  \n",
       "4  Point(145.78 16.705)  "
      ]
     },
     "execution_count": 23,
     "metadata": {},
     "output_type": "execute_result"
    }
   ],
   "source": [
    "df_co_from_cc = pd.read_csv('./data/location_ref/councode_councood.csv')\n",
    "\n",
    "# reame columns\n",
    "df_co_from_cc = df_co_from_cc.rename({'alpha2Code': 'COUNTRY_ALPHA2_CODE'}, axis='columns')\n",
    "df_co_from_cc.head()"
   ]
  },
  {
   "cell_type": "code",
   "execution_count": 24,
   "metadata": {},
   "outputs": [],
   "source": [
    "df_co_from_cc['countryCoords'] = df_co_from_cc['countryCoords'].replace(\"Point\\(\", \"\", regex=True).replace(\" \", \", \", regex=True).replace(\"\\)\", \"\", regex=True)\n",
    "\n",
    "\n",
    "# converting to string series \n",
    "df_co_from_cc['countryCoords']= df_co_from_cc['countryCoords'].astype(str) \n",
    "\n",
    "# splitting at occurrence of whitespace \n",
    "df_co_from_cc['countryCoords']= df_co_from_cc['countryCoords'].str.split(\",\", 1) \n",
    "  \n",
    "# displaying second element from list \n",
    "df_co_from_cc['country_lat_3857']  = df_co_from_cc['countryCoords'].str.get(1) \n",
    "\n",
    "# displaying first element from list \n",
    "df_co_from_cc['country_long_3857']  = df_co_from_cc['countryCoords'].str.get(0)\n",
    " \n",
    "    \n",
    "df_co_from_cc['country_lat_long_3857'] = df_co_from_cc['country_lat_3857'] + \",\" + df_co_from_cc['country_long_3857'] \n",
    "\n",
    "df_co_from_cc['country_lat_long_3857'] = df_co_from_cc['country_lat_long_3857'].replace(\" \", \"\", regex=True)\n",
    "\n",
    "\n",
    "df_co_from_cc = df_co_from_cc.drop(columns=['countryCoords', 'country'])"
   ]
  },
  {
   "cell_type": "code",
   "execution_count": 25,
   "metadata": {},
   "outputs": [
    {
     "data": {
      "text/html": [
       "<div>\n",
       "<style scoped>\n",
       "    .dataframe tbody tr th:only-of-type {\n",
       "        vertical-align: middle;\n",
       "    }\n",
       "\n",
       "    .dataframe tbody tr th {\n",
       "        vertical-align: top;\n",
       "    }\n",
       "\n",
       "    .dataframe thead th {\n",
       "        text-align: right;\n",
       "    }\n",
       "</style>\n",
       "<table border=\"1\" class=\"dataframe\">\n",
       "  <thead>\n",
       "    <tr style=\"text-align: right;\">\n",
       "      <th></th>\n",
       "      <th>COUNTRY_ALPHA2_CODE</th>\n",
       "      <th>country_lat_3857</th>\n",
       "      <th>country_long_3857</th>\n",
       "      <th>country_lat_long_3857</th>\n",
       "    </tr>\n",
       "  </thead>\n",
       "  <tbody>\n",
       "    <tr>\n",
       "      <th>0</th>\n",
       "      <td>KY</td>\n",
       "      <td>19.5</td>\n",
       "      <td>-80.5</td>\n",
       "      <td>19.5,-80.5</td>\n",
       "    </tr>\n",
       "    <tr>\n",
       "      <th>1</th>\n",
       "      <td>BW</td>\n",
       "      <td>-22.2</td>\n",
       "      <td>23.7</td>\n",
       "      <td>-22.2,23.7</td>\n",
       "    </tr>\n",
       "    <tr>\n",
       "      <th>2</th>\n",
       "      <td>TZ</td>\n",
       "      <td>-6.307</td>\n",
       "      <td>34.854</td>\n",
       "      <td>-6.307,34.854</td>\n",
       "    </tr>\n",
       "    <tr>\n",
       "      <th>3</th>\n",
       "      <td>GH</td>\n",
       "      <td>8.0</td>\n",
       "      <td>-0.5</td>\n",
       "      <td>8.0,-0.5</td>\n",
       "    </tr>\n",
       "    <tr>\n",
       "      <th>4</th>\n",
       "      <td>MP</td>\n",
       "      <td>16.705</td>\n",
       "      <td>145.78</td>\n",
       "      <td>16.705,145.78</td>\n",
       "    </tr>\n",
       "  </tbody>\n",
       "</table>\n",
       "</div>"
      ],
      "text/plain": [
       "  COUNTRY_ALPHA2_CODE country_lat_3857 country_long_3857 country_lat_long_3857\n",
       "0                  KY             19.5             -80.5            19.5,-80.5\n",
       "1                  BW            -22.2              23.7            -22.2,23.7\n",
       "2                  TZ           -6.307            34.854         -6.307,34.854\n",
       "3                  GH              8.0              -0.5              8.0,-0.5\n",
       "4                  MP           16.705            145.78         16.705,145.78"
      ]
     },
     "execution_count": 25,
     "metadata": {},
     "output_type": "execute_result"
    }
   ],
   "source": [
    "df_co_from_cc.head()"
   ]
  },
  {
   "cell_type": "code",
   "execution_count": 26,
   "metadata": {},
   "outputs": [
    {
     "data": {
      "text/plain": [
       "(256, 4)"
      ]
     },
     "execution_count": 26,
     "metadata": {},
     "output_type": "execute_result"
    }
   ],
   "source": [
    "df_co_from_cc.shape"
   ]
  },
  {
   "cell_type": "markdown",
   "metadata": {},
   "source": [
    "### load table country names multilingual - country name - country code"
   ]
  },
  {
   "cell_type": "code",
   "execution_count": 27,
   "metadata": {},
   "outputs": [
    {
     "data": {
      "text/html": [
       "<div>\n",
       "<style scoped>\n",
       "    .dataframe tbody tr th:only-of-type {\n",
       "        vertical-align: middle;\n",
       "    }\n",
       "\n",
       "    .dataframe tbody tr th {\n",
       "        vertical-align: top;\n",
       "    }\n",
       "\n",
       "    .dataframe thead th {\n",
       "        text-align: right;\n",
       "    }\n",
       "</style>\n",
       "<table border=\"1\" class=\"dataframe\">\n",
       "  <thead>\n",
       "    <tr style=\"text-align: right;\">\n",
       "      <th></th>\n",
       "      <th>LANG</th>\n",
       "      <th>LANG_NAME</th>\n",
       "      <th>COUNTRY_ALPHA2_CODE</th>\n",
       "      <th>COUNTRY_NAME</th>\n",
       "    </tr>\n",
       "  </thead>\n",
       "  <tbody>\n",
       "    <tr>\n",
       "      <th>0</th>\n",
       "      <td>af</td>\n",
       "      <td>AFRIKAANS</td>\n",
       "      <td>AD</td>\n",
       "      <td>andorra</td>\n",
       "    </tr>\n",
       "    <tr>\n",
       "      <th>1</th>\n",
       "      <td>af</td>\n",
       "      <td>AFRIKAANS</td>\n",
       "      <td>AE</td>\n",
       "      <td>verenigde arabiese emirate</td>\n",
       "    </tr>\n",
       "    <tr>\n",
       "      <th>2</th>\n",
       "      <td>af</td>\n",
       "      <td>AFRIKAANS</td>\n",
       "      <td>AF</td>\n",
       "      <td>afganistan</td>\n",
       "    </tr>\n",
       "    <tr>\n",
       "      <th>3</th>\n",
       "      <td>af</td>\n",
       "      <td>AFRIKAANS</td>\n",
       "      <td>AG</td>\n",
       "      <td>antigua en barbuda</td>\n",
       "    </tr>\n",
       "    <tr>\n",
       "      <th>4</th>\n",
       "      <td>af</td>\n",
       "      <td>AFRIKAANS</td>\n",
       "      <td>AI</td>\n",
       "      <td>anguilla</td>\n",
       "    </tr>\n",
       "  </tbody>\n",
       "</table>\n",
       "</div>"
      ],
      "text/plain": [
       "  LANG  LANG_NAME COUNTRY_ALPHA2_CODE                COUNTRY_NAME\n",
       "0   af  AFRIKAANS                  AD                     andorra\n",
       "1   af  AFRIKAANS                  AE  verenigde arabiese emirate\n",
       "2   af  AFRIKAANS                  AF                  afganistan\n",
       "3   af  AFRIKAANS                  AG          antigua en barbuda\n",
       "4   af  AFRIKAANS                  AI                    anguilla"
      ]
     },
     "execution_count": 27,
     "metadata": {},
     "output_type": "execute_result"
    }
   ],
   "source": [
    "df_c_multilingu = pd.read_csv('./data/location_ref/IP2LOCATION-COUNTRY-MULTILINGUAL.CSV')\n",
    "df_c_multilingu = df_c_multilingu.drop(columns=['COUNTRY_ALPHA3_CODE', 'COUNTRY_NUMERIC_CODE'])\n",
    "# make COUNTRY_NAME lowercase\n",
    "df_c_multilingu['COUNTRY_NAME'] = df_c_multilingu['COUNTRY_NAME'].str.lower()\n",
    "df_c_multilingu['LANG'] = df_c_multilingu['LANG'].str.lower()\n",
    "\n",
    "df_c_multilingu.head()"
   ]
  },
  {
   "cell_type": "code",
   "execution_count": 28,
   "metadata": {},
   "outputs": [
    {
     "data": {
      "text/html": [
       "<div>\n",
       "<style scoped>\n",
       "    .dataframe tbody tr th:only-of-type {\n",
       "        vertical-align: middle;\n",
       "    }\n",
       "\n",
       "    .dataframe tbody tr th {\n",
       "        vertical-align: top;\n",
       "    }\n",
       "\n",
       "    .dataframe thead th {\n",
       "        text-align: right;\n",
       "    }\n",
       "</style>\n",
       "<table border=\"1\" class=\"dataframe\">\n",
       "  <thead>\n",
       "    <tr style=\"text-align: right;\">\n",
       "      <th></th>\n",
       "      <th>LANG</th>\n",
       "      <th>LANG_NAME</th>\n",
       "      <th>COUNTRY_ALPHA2_CODE</th>\n",
       "      <th>COUNTRY_NAME</th>\n",
       "    </tr>\n",
       "  </thead>\n",
       "  <tbody>\n",
       "    <tr>\n",
       "      <th>13051</th>\n",
       "      <td>nb</td>\n",
       "      <td>NORWEGIAN BOKMAL</td>\n",
       "      <td>IM</td>\n",
       "      <td>man</td>\n",
       "    </tr>\n",
       "    <tr>\n",
       "      <th>13798</th>\n",
       "      <td>nn</td>\n",
       "      <td>NORWEGIAN NYNORSK</td>\n",
       "      <td>IM</td>\n",
       "      <td>man</td>\n",
       "    </tr>\n",
       "    <tr>\n",
       "      <th>14047</th>\n",
       "      <td>no</td>\n",
       "      <td>NORWEGIAN</td>\n",
       "      <td>IM</td>\n",
       "      <td>man</td>\n",
       "    </tr>\n",
       "  </tbody>\n",
       "</table>\n",
       "</div>"
      ],
      "text/plain": [
       "      LANG          LANG_NAME COUNTRY_ALPHA2_CODE COUNTRY_NAME\n",
       "13051   nb   NORWEGIAN BOKMAL                  IM          man\n",
       "13798   nn  NORWEGIAN NYNORSK                  IM          man\n",
       "14047   no          NORWEGIAN                  IM          man"
      ]
     },
     "execution_count": 28,
     "metadata": {},
     "output_type": "execute_result"
    }
   ],
   "source": [
    "#drop: re, man\n",
    "df_c_multilingu[df_c_multilingu['COUNTRY_NAME']=='man']"
   ]
  },
  {
   "cell_type": "code",
   "execution_count": 29,
   "metadata": {},
   "outputs": [
    {
     "data": {
      "text/html": [
       "<div>\n",
       "<style scoped>\n",
       "    .dataframe tbody tr th:only-of-type {\n",
       "        vertical-align: middle;\n",
       "    }\n",
       "\n",
       "    .dataframe tbody tr th {\n",
       "        vertical-align: top;\n",
       "    }\n",
       "\n",
       "    .dataframe thead th {\n",
       "        text-align: right;\n",
       "    }\n",
       "</style>\n",
       "<table border=\"1\" class=\"dataframe\">\n",
       "  <thead>\n",
       "    <tr style=\"text-align: right;\">\n",
       "      <th></th>\n",
       "      <th>LANG</th>\n",
       "      <th>LANG_NAME</th>\n",
       "      <th>COUNTRY_ALPHA2_CODE</th>\n",
       "      <th>COUNTRY_NAME</th>\n",
       "    </tr>\n",
       "  </thead>\n",
       "  <tbody>\n",
       "    <tr>\n",
       "      <th>19562</th>\n",
       "      <td>vi</td>\n",
       "      <td>VIETNAMESE</td>\n",
       "      <td>MF</td>\n",
       "      <td>mf</td>\n",
       "    </tr>\n",
       "  </tbody>\n",
       "</table>\n",
       "</div>"
      ],
      "text/plain": [
       "      LANG   LANG_NAME COUNTRY_ALPHA2_CODE COUNTRY_NAME\n",
       "19562   vi  VIETNAMESE                  MF           mf"
      ]
     },
     "execution_count": 29,
     "metadata": {},
     "output_type": "execute_result"
    }
   ],
   "source": [
    "df_c_multilingu[df_c_multilingu['COUNTRY_NAME']=='mf'] \n",
    "# yt, re, man, mf\n",
    "# nga = russia"
   ]
  },
  {
   "cell_type": "code",
   "execution_count": 30,
   "metadata": {},
   "outputs": [],
   "source": [
    "df_c_multilingu = df_c_multilingu.drop(index=[13051,13798, 14047, 19609,19667,19562])"
   ]
  },
  {
   "cell_type": "code",
   "execution_count": 31,
   "metadata": {},
   "outputs": [
    {
     "data": {
      "text/plain": [
       "(20163, 4)"
      ]
     },
     "execution_count": 31,
     "metadata": {},
     "output_type": "execute_result"
    }
   ],
   "source": [
    "df_c_multilingu.shape #20169 #20166 # 20165"
   ]
  },
  {
   "cell_type": "code",
   "execution_count": 32,
   "metadata": {},
   "outputs": [
    {
     "data": {
      "text/plain": [
       "13387"
      ]
     },
     "execution_count": 32,
     "metadata": {},
     "output_type": "execute_result"
    }
   ],
   "source": [
    "df_c_multilingu['COUNTRY_NAME'].nunique()"
   ]
  },
  {
   "cell_type": "code",
   "execution_count": 33,
   "metadata": {},
   "outputs": [],
   "source": [
    "# remove duplicates\n",
    "df_c_multilingu = df_c_multilingu[~df_c_multilingu['COUNTRY_NAME'].duplicated()]"
   ]
  },
  {
   "cell_type": "code",
   "execution_count": 34,
   "metadata": {},
   "outputs": [
    {
     "data": {
      "text/plain": [
       "(13387, 4)"
      ]
     },
     "execution_count": 34,
     "metadata": {},
     "output_type": "execute_result"
    }
   ],
   "source": [
    "df_c_multilingu.shape"
   ]
  },
  {
   "cell_type": "markdown",
   "metadata": {},
   "source": [
    "### Merge dataframes"
   ]
  },
  {
   "cell_type": "code",
   "execution_count": 35,
   "metadata": {},
   "outputs": [
    {
     "data": {
      "text/plain": [
       "(13745, 7)"
      ]
     },
     "execution_count": 35,
     "metadata": {},
     "output_type": "execute_result"
    }
   ],
   "source": [
    "# merge these 2 \n",
    "df_c = df_c_multilingu.merge(df_co_from_cc, how='left', on='COUNTRY_ALPHA2_CODE',suffixes=(False, False))\n",
    "df_c.shape"
   ]
  },
  {
   "cell_type": "code",
   "execution_count": 36,
   "metadata": {},
   "outputs": [
    {
     "data": {
      "text/html": [
       "<div>\n",
       "<style scoped>\n",
       "    .dataframe tbody tr th:only-of-type {\n",
       "        vertical-align: middle;\n",
       "    }\n",
       "\n",
       "    .dataframe tbody tr th {\n",
       "        vertical-align: top;\n",
       "    }\n",
       "\n",
       "    .dataframe thead th {\n",
       "        text-align: right;\n",
       "    }\n",
       "</style>\n",
       "<table border=\"1\" class=\"dataframe\">\n",
       "  <thead>\n",
       "    <tr style=\"text-align: right;\">\n",
       "      <th></th>\n",
       "      <th>LANG</th>\n",
       "      <th>LANG_NAME</th>\n",
       "      <th>COUNTRY_ALPHA2_CODE</th>\n",
       "      <th>COUNTRY_NAME</th>\n",
       "      <th>country_lat_3857</th>\n",
       "      <th>country_long_3857</th>\n",
       "      <th>country_lat_long_3857</th>\n",
       "    </tr>\n",
       "  </thead>\n",
       "  <tbody>\n",
       "    <tr>\n",
       "      <th>0</th>\n",
       "      <td>af</td>\n",
       "      <td>AFRIKAANS</td>\n",
       "      <td>AD</td>\n",
       "      <td>andorra</td>\n",
       "      <td>42.558333333</td>\n",
       "      <td>1.555277777</td>\n",
       "      <td>42.558333333,1.555277777</td>\n",
       "    </tr>\n",
       "    <tr>\n",
       "      <th>1</th>\n",
       "      <td>af</td>\n",
       "      <td>AFRIKAANS</td>\n",
       "      <td>AE</td>\n",
       "      <td>verenigde arabiese emirate</td>\n",
       "      <td>24.4</td>\n",
       "      <td>54.3</td>\n",
       "      <td>24.4,54.3</td>\n",
       "    </tr>\n",
       "    <tr>\n",
       "      <th>2</th>\n",
       "      <td>af</td>\n",
       "      <td>AFRIKAANS</td>\n",
       "      <td>AF</td>\n",
       "      <td>afganistan</td>\n",
       "      <td>34.0</td>\n",
       "      <td>66.0</td>\n",
       "      <td>34.0,66.0</td>\n",
       "    </tr>\n",
       "    <tr>\n",
       "      <th>3</th>\n",
       "      <td>af</td>\n",
       "      <td>AFRIKAANS</td>\n",
       "      <td>AG</td>\n",
       "      <td>antigua en barbuda</td>\n",
       "      <td>17.116666666</td>\n",
       "      <td>-61.85</td>\n",
       "      <td>17.116666666,-61.85</td>\n",
       "    </tr>\n",
       "    <tr>\n",
       "      <th>4</th>\n",
       "      <td>af</td>\n",
       "      <td>AFRIKAANS</td>\n",
       "      <td>AI</td>\n",
       "      <td>anguilla</td>\n",
       "      <td>18.227222222</td>\n",
       "      <td>-63.048888888</td>\n",
       "      <td>18.227222222,-63.048888888</td>\n",
       "    </tr>\n",
       "  </tbody>\n",
       "</table>\n",
       "</div>"
      ],
      "text/plain": [
       "  LANG  LANG_NAME COUNTRY_ALPHA2_CODE                COUNTRY_NAME  \\\n",
       "0   af  AFRIKAANS                  AD                     andorra   \n",
       "1   af  AFRIKAANS                  AE  verenigde arabiese emirate   \n",
       "2   af  AFRIKAANS                  AF                  afganistan   \n",
       "3   af  AFRIKAANS                  AG          antigua en barbuda   \n",
       "4   af  AFRIKAANS                  AI                    anguilla   \n",
       "\n",
       "  country_lat_3857 country_long_3857       country_lat_long_3857  \n",
       "0     42.558333333       1.555277777    42.558333333,1.555277777  \n",
       "1             24.4              54.3                   24.4,54.3  \n",
       "2             34.0              66.0                   34.0,66.0  \n",
       "3     17.116666666            -61.85         17.116666666,-61.85  \n",
       "4     18.227222222     -63.048888888  18.227222222,-63.048888888  "
      ]
     },
     "execution_count": 36,
     "metadata": {},
     "output_type": "execute_result"
    }
   ],
   "source": [
    "df_c.head()"
   ]
  },
  {
   "cell_type": "code",
   "execution_count": 37,
   "metadata": {},
   "outputs": [
    {
     "data": {
      "text/plain": [
       "(13745, 7)"
      ]
     },
     "execution_count": 37,
     "metadata": {},
     "output_type": "execute_result"
    }
   ],
   "source": [
    "df_c.shape"
   ]
  },
  {
   "cell_type": "code",
   "execution_count": 38,
   "metadata": {},
   "outputs": [],
   "source": [
    "# check for dupliates in COUNTRY_NAME col\n",
    "# remove duplicates cityLabel entries\n",
    "df_c = df_c[~df_c['COUNTRY_NAME'].duplicated()]"
   ]
  },
  {
   "cell_type": "code",
   "execution_count": 39,
   "metadata": {},
   "outputs": [
    {
     "data": {
      "text/plain": [
       "(13387, 7)"
      ]
     },
     "execution_count": 39,
     "metadata": {},
     "output_type": "execute_result"
    }
   ],
   "source": [
    "df_c.shape"
   ]
  },
  {
   "cell_type": "code",
   "execution_count": 40,
   "metadata": {},
   "outputs": [],
   "source": [
    "df_c.to_csv('./data/location_ref/pre_country_multilingu_countrycode_countrycoord.csv')"
   ]
  },
  {
   "cell_type": "markdown",
   "metadata": {},
   "source": [
    "### import cityname multilingu"
   ]
  },
  {
   "cell_type": "code",
   "execution_count": 90,
   "metadata": {
    "scrolled": true
   },
   "outputs": [],
   "source": [
    "df_d = pd.read_csv('./data/location_ref/citynamemulti_councode_cityco_citypop.csv', \n",
    "                   dtype={'cityCoords': str },index_col=0)"
   ]
  },
  {
   "cell_type": "code",
   "execution_count": 91,
   "metadata": {},
   "outputs": [
    {
     "data": {
      "text/html": [
       "<div>\n",
       "<style scoped>\n",
       "    .dataframe tbody tr th:only-of-type {\n",
       "        vertical-align: middle;\n",
       "    }\n",
       "\n",
       "    .dataframe tbody tr th {\n",
       "        vertical-align: top;\n",
       "    }\n",
       "\n",
       "    .dataframe thead th {\n",
       "        text-align: right;\n",
       "    }\n",
       "</style>\n",
       "<table border=\"1\" class=\"dataframe\">\n",
       "  <thead>\n",
       "    <tr style=\"text-align: right;\">\n",
       "      <th></th>\n",
       "      <th>language</th>\n",
       "      <th>CITY_NAME</th>\n",
       "      <th>COUNTRY_ALPHA2_CODE</th>\n",
       "      <th>population</th>\n",
       "      <th>city_lat_3857</th>\n",
       "      <th>city_long_3857</th>\n",
       "      <th>city_lat_long_3857</th>\n",
       "    </tr>\n",
       "  </thead>\n",
       "  <tbody>\n",
       "    <tr>\n",
       "      <th>81</th>\n",
       "      <td>pl</td>\n",
       "      <td>Nowy Jork</td>\n",
       "      <td>US</td>\n",
       "      <td>8398748.0</td>\n",
       "      <td>40.67</td>\n",
       "      <td>-73.94</td>\n",
       "      <td>40.67, -73.94</td>\n",
       "    </tr>\n",
       "    <tr>\n",
       "      <th>82</th>\n",
       "      <td>en</td>\n",
       "      <td>New York City</td>\n",
       "      <td>US</td>\n",
       "      <td>8398748.0</td>\n",
       "      <td>40.67</td>\n",
       "      <td>-73.94</td>\n",
       "      <td>40.67, -73.94</td>\n",
       "    </tr>\n",
       "    <tr>\n",
       "      <th>83</th>\n",
       "      <td>fi</td>\n",
       "      <td>New York</td>\n",
       "      <td>US</td>\n",
       "      <td>8398748.0</td>\n",
       "      <td>40.67</td>\n",
       "      <td>-73.94</td>\n",
       "      <td>40.67, -73.94</td>\n",
       "    </tr>\n",
       "    <tr>\n",
       "      <th>84</th>\n",
       "      <td>he</td>\n",
       "      <td>ניו יורק</td>\n",
       "      <td>US</td>\n",
       "      <td>8398748.0</td>\n",
       "      <td>40.67</td>\n",
       "      <td>-73.94</td>\n",
       "      <td>40.67, -73.94</td>\n",
       "    </tr>\n",
       "    <tr>\n",
       "      <th>88</th>\n",
       "      <td>ru</td>\n",
       "      <td>Нью-Йорк</td>\n",
       "      <td>US</td>\n",
       "      <td>8398748.0</td>\n",
       "      <td>40.67</td>\n",
       "      <td>-73.94</td>\n",
       "      <td>40.67, -73.94</td>\n",
       "    </tr>\n",
       "  </tbody>\n",
       "</table>\n",
       "</div>"
      ],
      "text/plain": [
       "   language      CITY_NAME COUNTRY_ALPHA2_CODE  population  city_lat_3857  \\\n",
       "81       pl      Nowy Jork                  US   8398748.0          40.67   \n",
       "82       en  New York City                  US   8398748.0          40.67   \n",
       "83       fi       New York                  US   8398748.0          40.67   \n",
       "84       he       ניו יורק                  US   8398748.0          40.67   \n",
       "88       ru       Нью-Йорк                  US   8398748.0          40.67   \n",
       "\n",
       "    city_long_3857 city_lat_long_3857  \n",
       "81          -73.94      40.67, -73.94  \n",
       "82          -73.94      40.67, -73.94  \n",
       "83          -73.94      40.67, -73.94  \n",
       "84          -73.94      40.67, -73.94  \n",
       "88          -73.94      40.67, -73.94  "
      ]
     },
     "execution_count": 91,
     "metadata": {},
     "output_type": "execute_result"
    }
   ],
   "source": [
    "df_d.head()"
   ]
  },
  {
   "cell_type": "code",
   "execution_count": 92,
   "metadata": {},
   "outputs": [],
   "source": [
    "df_e = df_d.merge(df_co_from_cc, how='left', on='COUNTRY_ALPHA2_CODE',suffixes=(False, False))\n"
   ]
  },
  {
   "cell_type": "code",
   "execution_count": 93,
   "metadata": {},
   "outputs": [],
   "source": [
    "# cols = list(df_e.columns.values)\n",
    "col_order = ['language',\n",
    " 'CITY_NAME',\n",
    " 'city_lat_3857',\n",
    " 'city_long_3857',\n",
    " 'city_lat_long_3857',\n",
    " 'population',\n",
    " 'COUNTRY_ALPHA2_CODE',\n",
    " 'country_lat_3857',\n",
    " 'country_long_3857',\n",
    " 'country_lat_long_3857']"
   ]
  },
  {
   "cell_type": "code",
   "execution_count": 94,
   "metadata": {},
   "outputs": [],
   "source": [
    "df_e = df_e[col_order]"
   ]
  },
  {
   "cell_type": "code",
   "execution_count": 95,
   "metadata": {},
   "outputs": [],
   "source": [
    "# make city_name lowercase\n",
    "df_e['CITY_NAME'] = df_e['CITY_NAME'].str.lower()\n"
   ]
  },
  {
   "cell_type": "code",
   "execution_count": 96,
   "metadata": {},
   "outputs": [
    {
     "data": {
      "text/html": [
       "<div>\n",
       "<style scoped>\n",
       "    .dataframe tbody tr th:only-of-type {\n",
       "        vertical-align: middle;\n",
       "    }\n",
       "\n",
       "    .dataframe tbody tr th {\n",
       "        vertical-align: top;\n",
       "    }\n",
       "\n",
       "    .dataframe thead th {\n",
       "        text-align: right;\n",
       "    }\n",
       "</style>\n",
       "<table border=\"1\" class=\"dataframe\">\n",
       "  <thead>\n",
       "    <tr style=\"text-align: right;\">\n",
       "      <th></th>\n",
       "      <th>language</th>\n",
       "      <th>CITY_NAME</th>\n",
       "      <th>city_lat_3857</th>\n",
       "      <th>city_long_3857</th>\n",
       "      <th>city_lat_long_3857</th>\n",
       "      <th>population</th>\n",
       "      <th>COUNTRY_ALPHA2_CODE</th>\n",
       "      <th>country_lat_3857</th>\n",
       "      <th>country_long_3857</th>\n",
       "      <th>country_lat_long_3857</th>\n",
       "    </tr>\n",
       "  </thead>\n",
       "  <tbody>\n",
       "    <tr>\n",
       "      <th>2000</th>\n",
       "      <td>ba</td>\n",
       "      <td>нанкин</td>\n",
       "      <td>32.050000</td>\n",
       "      <td>118.766667</td>\n",
       "      <td>32.05, 118.766666666</td>\n",
       "      <td>6320000.0</td>\n",
       "      <td>CN</td>\n",
       "      <td>35.844722222</td>\n",
       "      <td>103.451944444</td>\n",
       "      <td>35.844722222,103.451944444</td>\n",
       "    </tr>\n",
       "    <tr>\n",
       "      <th>2001</th>\n",
       "      <td>bg</td>\n",
       "      <td>нандзин</td>\n",
       "      <td>32.050000</td>\n",
       "      <td>118.766667</td>\n",
       "      <td>32.05, 118.766666666</td>\n",
       "      <td>6320000.0</td>\n",
       "      <td>CN</td>\n",
       "      <td>35.844722222</td>\n",
       "      <td>103.451944444</td>\n",
       "      <td>35.844722222,103.451944444</td>\n",
       "    </tr>\n",
       "    <tr>\n",
       "      <th>2002</th>\n",
       "      <td>bn</td>\n",
       "      <td>নানচিং</td>\n",
       "      <td>32.050000</td>\n",
       "      <td>118.766667</td>\n",
       "      <td>32.05, 118.766666666</td>\n",
       "      <td>6320000.0</td>\n",
       "      <td>CN</td>\n",
       "      <td>35.844722222</td>\n",
       "      <td>103.451944444</td>\n",
       "      <td>35.844722222,103.451944444</td>\n",
       "    </tr>\n",
       "    <tr>\n",
       "      <th>2003</th>\n",
       "      <td>bxr</td>\n",
       "      <td>нанжин</td>\n",
       "      <td>32.050000</td>\n",
       "      <td>118.766667</td>\n",
       "      <td>32.05, 118.766666666</td>\n",
       "      <td>6320000.0</td>\n",
       "      <td>CN</td>\n",
       "      <td>35.844722222</td>\n",
       "      <td>103.451944444</td>\n",
       "      <td>35.844722222,103.451944444</td>\n",
       "    </tr>\n",
       "    <tr>\n",
       "      <th>2004</th>\n",
       "      <td>ca</td>\n",
       "      <td>nanquín</td>\n",
       "      <td>32.050000</td>\n",
       "      <td>118.766667</td>\n",
       "      <td>32.05, 118.766666666</td>\n",
       "      <td>6320000.0</td>\n",
       "      <td>CN</td>\n",
       "      <td>35.844722222</td>\n",
       "      <td>103.451944444</td>\n",
       "      <td>35.844722222,103.451944444</td>\n",
       "    </tr>\n",
       "    <tr>\n",
       "      <th>...</th>\n",
       "      <td>...</td>\n",
       "      <td>...</td>\n",
       "      <td>...</td>\n",
       "      <td>...</td>\n",
       "      <td>...</td>\n",
       "      <td>...</td>\n",
       "      <td>...</td>\n",
       "      <td>...</td>\n",
       "      <td>...</td>\n",
       "      <td>...</td>\n",
       "    </tr>\n",
       "    <tr>\n",
       "      <th>2095</th>\n",
       "      <td>new</td>\n",
       "      <td>वार्सः</td>\n",
       "      <td>52.216667</td>\n",
       "      <td>21.033333</td>\n",
       "      <td>52.216666666, 21.033333333</td>\n",
       "      <td>1790658.0</td>\n",
       "      <td>PL</td>\n",
       "      <td>52.0</td>\n",
       "      <td>19.0</td>\n",
       "      <td>52.0,19.0</td>\n",
       "    </tr>\n",
       "    <tr>\n",
       "      <th>2096</th>\n",
       "      <td>nn</td>\n",
       "      <td>warszawa</td>\n",
       "      <td>52.216667</td>\n",
       "      <td>21.033333</td>\n",
       "      <td>52.216666666, 21.033333333</td>\n",
       "      <td>1790658.0</td>\n",
       "      <td>PL</td>\n",
       "      <td>52.0</td>\n",
       "      <td>19.0</td>\n",
       "      <td>52.0,19.0</td>\n",
       "    </tr>\n",
       "    <tr>\n",
       "      <th>2097</th>\n",
       "      <td>nov</td>\n",
       "      <td>varsava</td>\n",
       "      <td>52.216667</td>\n",
       "      <td>21.033333</td>\n",
       "      <td>52.216666666, 21.033333333</td>\n",
       "      <td>1790658.0</td>\n",
       "      <td>PL</td>\n",
       "      <td>52.0</td>\n",
       "      <td>19.0</td>\n",
       "      <td>52.0,19.0</td>\n",
       "    </tr>\n",
       "    <tr>\n",
       "      <th>2098</th>\n",
       "      <td>nrm</td>\n",
       "      <td>varsovie</td>\n",
       "      <td>52.216667</td>\n",
       "      <td>21.033333</td>\n",
       "      <td>52.216666666, 21.033333333</td>\n",
       "      <td>1790658.0</td>\n",
       "      <td>PL</td>\n",
       "      <td>52.0</td>\n",
       "      <td>19.0</td>\n",
       "      <td>52.0,19.0</td>\n",
       "    </tr>\n",
       "    <tr>\n",
       "      <th>2099</th>\n",
       "      <td>ny</td>\n",
       "      <td>warsaw</td>\n",
       "      <td>52.216667</td>\n",
       "      <td>21.033333</td>\n",
       "      <td>52.216666666, 21.033333333</td>\n",
       "      <td>1790658.0</td>\n",
       "      <td>PL</td>\n",
       "      <td>52.0</td>\n",
       "      <td>19.0</td>\n",
       "      <td>52.0,19.0</td>\n",
       "    </tr>\n",
       "  </tbody>\n",
       "</table>\n",
       "<p>100 rows × 10 columns</p>\n",
       "</div>"
      ],
      "text/plain": [
       "     language CITY_NAME  city_lat_3857  city_long_3857  \\\n",
       "2000       ba    нанкин      32.050000      118.766667   \n",
       "2001       bg   нандзин      32.050000      118.766667   \n",
       "2002       bn    নানচিং      32.050000      118.766667   \n",
       "2003      bxr    нанжин      32.050000      118.766667   \n",
       "2004       ca   nanquín      32.050000      118.766667   \n",
       "...       ...       ...            ...             ...   \n",
       "2095      new    वार्सः      52.216667       21.033333   \n",
       "2096       nn  warszawa      52.216667       21.033333   \n",
       "2097      nov   varsava      52.216667       21.033333   \n",
       "2098      nrm  varsovie      52.216667       21.033333   \n",
       "2099       ny    warsaw      52.216667       21.033333   \n",
       "\n",
       "               city_lat_long_3857  population COUNTRY_ALPHA2_CODE  \\\n",
       "2000         32.05, 118.766666666   6320000.0                  CN   \n",
       "2001         32.05, 118.766666666   6320000.0                  CN   \n",
       "2002         32.05, 118.766666666   6320000.0                  CN   \n",
       "2003         32.05, 118.766666666   6320000.0                  CN   \n",
       "2004         32.05, 118.766666666   6320000.0                  CN   \n",
       "...                           ...         ...                 ...   \n",
       "2095   52.216666666, 21.033333333   1790658.0                  PL   \n",
       "2096   52.216666666, 21.033333333   1790658.0                  PL   \n",
       "2097   52.216666666, 21.033333333   1790658.0                  PL   \n",
       "2098   52.216666666, 21.033333333   1790658.0                  PL   \n",
       "2099   52.216666666, 21.033333333   1790658.0                  PL   \n",
       "\n",
       "     country_lat_3857 country_long_3857       country_lat_long_3857  \n",
       "2000     35.844722222     103.451944444  35.844722222,103.451944444  \n",
       "2001     35.844722222     103.451944444  35.844722222,103.451944444  \n",
       "2002     35.844722222     103.451944444  35.844722222,103.451944444  \n",
       "2003     35.844722222     103.451944444  35.844722222,103.451944444  \n",
       "2004     35.844722222     103.451944444  35.844722222,103.451944444  \n",
       "...               ...               ...                         ...  \n",
       "2095             52.0              19.0                   52.0,19.0  \n",
       "2096             52.0              19.0                   52.0,19.0  \n",
       "2097             52.0              19.0                   52.0,19.0  \n",
       "2098             52.0              19.0                   52.0,19.0  \n",
       "2099             52.0              19.0                   52.0,19.0  \n",
       "\n",
       "[100 rows x 10 columns]"
      ]
     },
     "execution_count": 96,
     "metadata": {},
     "output_type": "execute_result"
    }
   ],
   "source": [
    "df_e[2000:2100]"
   ]
  },
  {
   "cell_type": "code",
   "execution_count": 97,
   "metadata": {},
   "outputs": [],
   "source": [
    "df_e.to_csv('./data/location_ref/city_multilingu_citycoord_countrycode_countrycoord.csv')"
   ]
  },
  {
   "cell_type": "code",
   "execution_count": null,
   "metadata": {},
   "outputs": [],
   "source": []
  },
  {
   "cell_type": "code",
   "execution_count": null,
   "metadata": {},
   "outputs": [],
   "source": []
  },
  {
   "cell_type": "code",
   "execution_count": null,
   "metadata": {},
   "outputs": [],
   "source": []
  }
 ],
 "metadata": {
  "kernelspec": {
   "display_name": "Python 3",
   "language": "python",
   "name": "python3"
  },
  "language_info": {
   "codemirror_mode": {
    "name": "ipython",
    "version": 3
   },
   "file_extension": ".py",
   "mimetype": "text/x-python",
   "name": "python",
   "nbconvert_exporter": "python",
   "pygments_lexer": "ipython3",
   "version": "3.7.6"
  }
 },
 "nbformat": 4,
 "nbformat_minor": 4
}
