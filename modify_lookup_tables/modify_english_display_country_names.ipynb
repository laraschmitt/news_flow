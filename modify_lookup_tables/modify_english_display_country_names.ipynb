{
 "cells": [
  {
   "cell_type": "code",
   "execution_count": 1,
   "metadata": {},
   "outputs": [],
   "source": [
    "import pandas as pd"
   ]
  },
  {
   "cell_type": "code",
   "execution_count": 11,
   "metadata": {},
   "outputs": [
    {
     "data": {
      "text/html": [
       "<div>\n",
       "<style scoped>\n",
       "    .dataframe tbody tr th:only-of-type {\n",
       "        vertical-align: middle;\n",
       "    }\n",
       "\n",
       "    .dataframe tbody tr th {\n",
       "        vertical-align: top;\n",
       "    }\n",
       "\n",
       "    .dataframe thead th {\n",
       "        text-align: right;\n",
       "    }\n",
       "</style>\n",
       "<table border=\"1\" class=\"dataframe\">\n",
       "  <thead>\n",
       "    <tr style=\"text-align: right;\">\n",
       "      <th></th>\n",
       "      <th>LANG</th>\n",
       "      <th>LANG_NAME</th>\n",
       "      <th>COUNTRY_ALPHA2_CODE</th>\n",
       "      <th>COUNTRY_ALPHA3_CODE</th>\n",
       "      <th>COUNTRY_NUMERIC_CODE</th>\n",
       "      <th>COUNTRY_NAME</th>\n",
       "    </tr>\n",
       "  </thead>\n",
       "  <tbody>\n",
       "    <tr>\n",
       "      <th>3979</th>\n",
       "      <td>EN</td>\n",
       "      <td>ENGLISH</td>\n",
       "      <td>YE</td>\n",
       "      <td>YEM</td>\n",
       "      <td>887</td>\n",
       "      <td>Yemen</td>\n",
       "    </tr>\n",
       "    <tr>\n",
       "      <th>3980</th>\n",
       "      <td>EN</td>\n",
       "      <td>ENGLISH</td>\n",
       "      <td>YT</td>\n",
       "      <td>MYT</td>\n",
       "      <td>175</td>\n",
       "      <td>Mayotte</td>\n",
       "    </tr>\n",
       "    <tr>\n",
       "      <th>3981</th>\n",
       "      <td>EN</td>\n",
       "      <td>ENGLISH</td>\n",
       "      <td>ZA</td>\n",
       "      <td>ZAF</td>\n",
       "      <td>710</td>\n",
       "      <td>South Africa</td>\n",
       "    </tr>\n",
       "    <tr>\n",
       "      <th>3982</th>\n",
       "      <td>EN</td>\n",
       "      <td>ENGLISH</td>\n",
       "      <td>ZM</td>\n",
       "      <td>ZMB</td>\n",
       "      <td>894</td>\n",
       "      <td>Zambia</td>\n",
       "    </tr>\n",
       "    <tr>\n",
       "      <th>3983</th>\n",
       "      <td>EN</td>\n",
       "      <td>ENGLISH</td>\n",
       "      <td>ZW</td>\n",
       "      <td>ZWE</td>\n",
       "      <td>716</td>\n",
       "      <td>Zimbabwe</td>\n",
       "    </tr>\n",
       "  </tbody>\n",
       "</table>\n",
       "</div>"
      ],
      "text/plain": [
       "     LANG LANG_NAME COUNTRY_ALPHA2_CODE COUNTRY_ALPHA3_CODE  \\\n",
       "3979   EN   ENGLISH                  YE                 YEM   \n",
       "3980   EN   ENGLISH                  YT                 MYT   \n",
       "3981   EN   ENGLISH                  ZA                 ZAF   \n",
       "3982   EN   ENGLISH                  ZM                 ZMB   \n",
       "3983   EN   ENGLISH                  ZW                 ZWE   \n",
       "\n",
       "      COUNTRY_NUMERIC_CODE  COUNTRY_NAME  \n",
       "3979                   887         Yemen  \n",
       "3980                   175       Mayotte  \n",
       "3981                   710  South Africa  \n",
       "3982                   894        Zambia  \n",
       "3983                   716      Zimbabwe  "
      ]
     },
     "execution_count": 11,
     "metadata": {},
     "output_type": "execute_result"
    }
   ],
   "source": [
    "#### load lookup tables\n",
    "df = pd.read_csv('./data/location_ref/IP2LOCATION-COUNTRY-MULTILINGUAL.csv')\n",
    "df = df[df['LANG_NAME'] == 'ENGLISH']\n",
    "\n",
    "df.tail()"
   ]
  },
  {
   "cell_type": "code",
   "execution_count": 13,
   "metadata": {},
   "outputs": [
    {
     "data": {
      "text/plain": [
       "(249, 6)"
      ]
     },
     "execution_count": 13,
     "metadata": {},
     "output_type": "execute_result"
    }
   ],
   "source": [
    "df['COUNTRY_NAME']= df['COUNTRY_NAME'].str.lower()\n",
    "df.shape"
   ]
  },
  {
   "cell_type": "code",
   "execution_count": 14,
   "metadata": {},
   "outputs": [
    {
     "name": "stderr",
     "output_type": "stream",
     "text": [
      "/Users/lara/anaconda3/lib/python3.7/site-packages/ipykernel_launcher.py:5: SettingWithCopyWarning: \n",
      "A value is trying to be set on a copy of a slice from a DataFrame.\n",
      "Try using .loc[row_indexer,col_indexer] = value instead\n",
      "\n",
      "See the caveats in the documentation: https://pandas.pydata.org/pandas-docs/stable/user_guide/indexing.html#returning-a-view-versus-a-copy\n",
      "  \"\"\"\n",
      "/Users/lara/anaconda3/lib/python3.7/site-packages/ipykernel_launcher.py:8: SettingWithCopyWarning: \n",
      "A value is trying to be set on a copy of a slice from a DataFrame.\n",
      "Try using .loc[row_indexer,col_indexer] = value instead\n",
      "\n",
      "See the caveats in the documentation: https://pandas.pydata.org/pandas-docs/stable/user_guide/indexing.html#returning-a-view-versus-a-copy\n",
      "  \n",
      "/Users/lara/anaconda3/lib/python3.7/site-packages/ipykernel_launcher.py:11: SettingWithCopyWarning: \n",
      "A value is trying to be set on a copy of a slice from a DataFrame.\n",
      "Try using .loc[row_indexer,col_indexer] = value instead\n",
      "\n",
      "See the caveats in the documentation: https://pandas.pydata.org/pandas-docs/stable/user_guide/indexing.html#returning-a-view-versus-a-copy\n",
      "  # This is added back by InteractiveShellApp.init_path()\n"
     ]
    }
   ],
   "source": [
    "df['COUNTRY_NAME'] = df['COUNTRY_NAME'].replace('united kingdom of great britain and northern ireland', 'united kingdom')\n",
    "df['COUNTRY_NAME'] = df['COUNTRY_NAME'].replace('united states of america', 'united states')\n",
    "\n",
    "UK_row = df[(df['COUNTRY_ALPHA2_CODE']== 'GB')& (df['LANG']== 'EN')]\n",
    "UK_row['COUNTRY_NAME'] = UK_row['COUNTRY_NAME'].replace('united kingdom', 'UK')\n",
    "\n",
    "US_row = df[(df['COUNTRY_ALPHA2_CODE']== 'US')& (df['LANG']== 'EN')]\n",
    "US_row['COUNTRY_NAME'] = US_row['COUNTRY_NAME'].replace('united states', 'US')\n",
    "\n",
    "US_row2 = df[(df['COUNTRY_ALPHA2_CODE']== 'US')& (df['LANG']== 'EN')]\n",
    "US_row2['COUNTRY_NAME'] = US_row2['COUNTRY_NAME'].replace('united states', 'USA')\n",
    "\n",
    "df2 = df.append([UK_row, US_row, US_row2])"
   ]
  },
  {
   "cell_type": "code",
   "execution_count": 15,
   "metadata": {
    "scrolled": true
   },
   "outputs": [
    {
     "data": {
      "text/html": [
       "<div>\n",
       "<style scoped>\n",
       "    .dataframe tbody tr th:only-of-type {\n",
       "        vertical-align: middle;\n",
       "    }\n",
       "\n",
       "    .dataframe tbody tr th {\n",
       "        vertical-align: top;\n",
       "    }\n",
       "\n",
       "    .dataframe thead th {\n",
       "        text-align: right;\n",
       "    }\n",
       "</style>\n",
       "<table border=\"1\" class=\"dataframe\">\n",
       "  <thead>\n",
       "    <tr style=\"text-align: right;\">\n",
       "      <th></th>\n",
       "      <th>index</th>\n",
       "      <th>LANG</th>\n",
       "      <th>LANG_NAME</th>\n",
       "      <th>COUNTRY_ALPHA2_CODE</th>\n",
       "      <th>COUNTRY_ALPHA3_CODE</th>\n",
       "      <th>COUNTRY_NUMERIC_CODE</th>\n",
       "      <th>COUNTRY_NAME</th>\n",
       "    </tr>\n",
       "  </thead>\n",
       "  <tbody>\n",
       "    <tr>\n",
       "      <th>247</th>\n",
       "      <td>3982</td>\n",
       "      <td>EN</td>\n",
       "      <td>ENGLISH</td>\n",
       "      <td>ZM</td>\n",
       "      <td>ZMB</td>\n",
       "      <td>894</td>\n",
       "      <td>zambia</td>\n",
       "    </tr>\n",
       "    <tr>\n",
       "      <th>248</th>\n",
       "      <td>3983</td>\n",
       "      <td>EN</td>\n",
       "      <td>ENGLISH</td>\n",
       "      <td>ZW</td>\n",
       "      <td>ZWE</td>\n",
       "      <td>716</td>\n",
       "      <td>zimbabwe</td>\n",
       "    </tr>\n",
       "    <tr>\n",
       "      <th>249</th>\n",
       "      <td>3811</td>\n",
       "      <td>EN</td>\n",
       "      <td>ENGLISH</td>\n",
       "      <td>GB</td>\n",
       "      <td>GBR</td>\n",
       "      <td>826</td>\n",
       "      <td>UK</td>\n",
       "    </tr>\n",
       "    <tr>\n",
       "      <th>250</th>\n",
       "      <td>3967</td>\n",
       "      <td>EN</td>\n",
       "      <td>ENGLISH</td>\n",
       "      <td>US</td>\n",
       "      <td>USA</td>\n",
       "      <td>840</td>\n",
       "      <td>US</td>\n",
       "    </tr>\n",
       "    <tr>\n",
       "      <th>251</th>\n",
       "      <td>3967</td>\n",
       "      <td>EN</td>\n",
       "      <td>ENGLISH</td>\n",
       "      <td>US</td>\n",
       "      <td>USA</td>\n",
       "      <td>840</td>\n",
       "      <td>USA</td>\n",
       "    </tr>\n",
       "  </tbody>\n",
       "</table>\n",
       "</div>"
      ],
      "text/plain": [
       "     index LANG LANG_NAME COUNTRY_ALPHA2_CODE COUNTRY_ALPHA3_CODE  \\\n",
       "247   3982   EN   ENGLISH                  ZM                 ZMB   \n",
       "248   3983   EN   ENGLISH                  ZW                 ZWE   \n",
       "249   3811   EN   ENGLISH                  GB                 GBR   \n",
       "250   3967   EN   ENGLISH                  US                 USA   \n",
       "251   3967   EN   ENGLISH                  US                 USA   \n",
       "\n",
       "     COUNTRY_NUMERIC_CODE COUNTRY_NAME  \n",
       "247                   894       zambia  \n",
       "248                   716     zimbabwe  \n",
       "249                   826           UK  \n",
       "250                   840           US  \n",
       "251                   840          USA  "
      ]
     },
     "execution_count": 15,
     "metadata": {},
     "output_type": "execute_result"
    }
   ],
   "source": [
    "df2.reset_index(inplace=True)\n",
    "df2.tail()\n"
   ]
  },
  {
   "cell_type": "code",
   "execution_count": 16,
   "metadata": {},
   "outputs": [
    {
     "data": {
      "text/plain": [
       "(252, 7)"
      ]
     },
     "execution_count": 16,
     "metadata": {},
     "output_type": "execute_result"
    }
   ],
   "source": [
    "df2.shape"
   ]
  },
  {
   "cell_type": "code",
   "execution_count": 17,
   "metadata": {},
   "outputs": [],
   "source": [
    "df2.to_csv('./data/location_ref/countrycode_countryname_en.csv')"
   ]
  },
  {
   "cell_type": "code",
   "execution_count": null,
   "metadata": {},
   "outputs": [],
   "source": []
  }
 ],
 "metadata": {
  "kernelspec": {
   "display_name": "Python 3",
   "language": "python",
   "name": "python3"
  },
  "language_info": {
   "codemirror_mode": {
    "name": "ipython",
    "version": 3
   },
   "file_extension": ".py",
   "mimetype": "text/x-python",
   "name": "python",
   "nbconvert_exporter": "python",
   "pygments_lexer": "ipython3",
   "version": "3.7.6"
  }
 },
 "nbformat": 4,
 "nbformat_minor": 4
}
