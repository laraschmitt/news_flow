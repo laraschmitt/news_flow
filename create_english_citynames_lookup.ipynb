{
 "cells": [
  {
   "cell_type": "code",
   "execution_count": 1,
   "metadata": {},
   "outputs": [],
   "source": [
    "import pandas as pd"
   ]
  },
  {
   "cell_type": "code",
   "execution_count": 38,
   "metadata": {},
   "outputs": [
    {
     "data": {
      "text/html": [
       "<div>\n",
       "<style scoped>\n",
       "    .dataframe tbody tr th:only-of-type {\n",
       "        vertical-align: middle;\n",
       "    }\n",
       "\n",
       "    .dataframe tbody tr th {\n",
       "        vertical-align: top;\n",
       "    }\n",
       "\n",
       "    .dataframe thead th {\n",
       "        text-align: right;\n",
       "    }\n",
       "</style>\n",
       "<table border=\"1\" class=\"dataframe\">\n",
       "  <thead>\n",
       "    <tr style=\"text-align: right;\">\n",
       "      <th></th>\n",
       "      <th>language</th>\n",
       "      <th>CITY_NAME</th>\n",
       "      <th>city_lat_3857</th>\n",
       "      <th>city_long_3857</th>\n",
       "      <th>city_lat_long_3857</th>\n",
       "      <th>population</th>\n",
       "      <th>COUNTRY_ALPHA2_CODE</th>\n",
       "      <th>country_lat_3857</th>\n",
       "      <th>country_long_3857</th>\n",
       "      <th>country_lat_long_3857</th>\n",
       "    </tr>\n",
       "  </thead>\n",
       "  <tbody>\n",
       "    <tr>\n",
       "      <th>0</th>\n",
       "      <td>pl</td>\n",
       "      <td>nowy jork</td>\n",
       "      <td>40.67</td>\n",
       "      <td>-73.94</td>\n",
       "      <td>40.67, -73.94</td>\n",
       "      <td>8398748.0</td>\n",
       "      <td>US</td>\n",
       "      <td>39.828175</td>\n",
       "      <td>-98.5795</td>\n",
       "      <td>39.828175,-98.5795</td>\n",
       "    </tr>\n",
       "    <tr>\n",
       "      <th>1</th>\n",
       "      <td>en</td>\n",
       "      <td>new york city</td>\n",
       "      <td>40.67</td>\n",
       "      <td>-73.94</td>\n",
       "      <td>40.67, -73.94</td>\n",
       "      <td>8398748.0</td>\n",
       "      <td>US</td>\n",
       "      <td>39.828175</td>\n",
       "      <td>-98.5795</td>\n",
       "      <td>39.828175,-98.5795</td>\n",
       "    </tr>\n",
       "    <tr>\n",
       "      <th>2</th>\n",
       "      <td>fi</td>\n",
       "      <td>new york</td>\n",
       "      <td>40.67</td>\n",
       "      <td>-73.94</td>\n",
       "      <td>40.67, -73.94</td>\n",
       "      <td>8398748.0</td>\n",
       "      <td>US</td>\n",
       "      <td>39.828175</td>\n",
       "      <td>-98.5795</td>\n",
       "      <td>39.828175,-98.5795</td>\n",
       "    </tr>\n",
       "    <tr>\n",
       "      <th>3</th>\n",
       "      <td>he</td>\n",
       "      <td>ניו יורק</td>\n",
       "      <td>40.67</td>\n",
       "      <td>-73.94</td>\n",
       "      <td>40.67, -73.94</td>\n",
       "      <td>8398748.0</td>\n",
       "      <td>US</td>\n",
       "      <td>39.828175</td>\n",
       "      <td>-98.5795</td>\n",
       "      <td>39.828175,-98.5795</td>\n",
       "    </tr>\n",
       "    <tr>\n",
       "      <th>4</th>\n",
       "      <td>ru</td>\n",
       "      <td>нью-йорк</td>\n",
       "      <td>40.67</td>\n",
       "      <td>-73.94</td>\n",
       "      <td>40.67, -73.94</td>\n",
       "      <td>8398748.0</td>\n",
       "      <td>US</td>\n",
       "      <td>39.828175</td>\n",
       "      <td>-98.5795</td>\n",
       "      <td>39.828175,-98.5795</td>\n",
       "    </tr>\n",
       "  </tbody>\n",
       "</table>\n",
       "</div>"
      ],
      "text/plain": [
       "  language      CITY_NAME  city_lat_3857  city_long_3857 city_lat_long_3857  \\\n",
       "0       pl      nowy jork          40.67          -73.94      40.67, -73.94   \n",
       "1       en  new york city          40.67          -73.94      40.67, -73.94   \n",
       "2       fi       new york          40.67          -73.94      40.67, -73.94   \n",
       "3       he       ניו יורק          40.67          -73.94      40.67, -73.94   \n",
       "4       ru       нью-йорк          40.67          -73.94      40.67, -73.94   \n",
       "\n",
       "   population COUNTRY_ALPHA2_CODE  country_lat_3857  country_long_3857  \\\n",
       "0   8398748.0                  US         39.828175           -98.5795   \n",
       "1   8398748.0                  US         39.828175           -98.5795   \n",
       "2   8398748.0                  US         39.828175           -98.5795   \n",
       "3   8398748.0                  US         39.828175           -98.5795   \n",
       "4   8398748.0                  US         39.828175           -98.5795   \n",
       "\n",
       "  country_lat_long_3857  \n",
       "0    39.828175,-98.5795  \n",
       "1    39.828175,-98.5795  \n",
       "2    39.828175,-98.5795  \n",
       "3    39.828175,-98.5795  \n",
       "4    39.828175,-98.5795  "
      ]
     },
     "execution_count": 38,
     "metadata": {},
     "output_type": "execute_result"
    }
   ],
   "source": [
    "df_city = pd.read_csv(\n",
    "    './data/location_ref/city_multilingu_citycoord_countrycode_countrycoord.csv',\n",
    "    index_col=0)\n",
    "\n",
    "df_city.head()"
   ]
  },
  {
   "cell_type": "code",
   "execution_count": 62,
   "metadata": {},
   "outputs": [
    {
     "data": {
      "text/plain": [
       "1460"
      ]
     },
     "execution_count": 62,
     "metadata": {},
     "output_type": "execute_result"
    }
   ],
   "source": [
    "# check number of cities\n",
    "df_city['city_lat_long_3857'].nunique()"
   ]
  },
  {
   "cell_type": "code",
   "execution_count": 64,
   "metadata": {},
   "outputs": [
    {
     "data": {
      "text/html": [
       "<div>\n",
       "<style scoped>\n",
       "    .dataframe tbody tr th:only-of-type {\n",
       "        vertical-align: middle;\n",
       "    }\n",
       "\n",
       "    .dataframe tbody tr th {\n",
       "        vertical-align: top;\n",
       "    }\n",
       "\n",
       "    .dataframe thead th {\n",
       "        text-align: right;\n",
       "    }\n",
       "</style>\n",
       "<table border=\"1\" class=\"dataframe\">\n",
       "  <thead>\n",
       "    <tr style=\"text-align: right;\">\n",
       "      <th></th>\n",
       "      <th>language</th>\n",
       "      <th>CITY_NAME</th>\n",
       "      <th>city_lat_3857</th>\n",
       "      <th>city_long_3857</th>\n",
       "      <th>city_lat_long_3857</th>\n",
       "      <th>population</th>\n",
       "      <th>COUNTRY_ALPHA2_CODE</th>\n",
       "      <th>country_lat_3857</th>\n",
       "      <th>country_long_3857</th>\n",
       "      <th>country_lat_long_3857</th>\n",
       "    </tr>\n",
       "  </thead>\n",
       "  <tbody>\n",
       "    <tr>\n",
       "      <th>31553</th>\n",
       "      <td>qu</td>\n",
       "      <td>berlin</td>\n",
       "      <td>52.516667</td>\n",
       "      <td>13.383333</td>\n",
       "      <td>52.516666666, 13.383333333</td>\n",
       "      <td>3644826.0</td>\n",
       "      <td>DE</td>\n",
       "      <td>51.0</td>\n",
       "      <td>10.0</td>\n",
       "      <td>51.0,10.0</td>\n",
       "    </tr>\n",
       "    <tr>\n",
       "      <th>31616</th>\n",
       "      <td>jbo</td>\n",
       "      <td>berlin</td>\n",
       "      <td>52.516667</td>\n",
       "      <td>13.383333</td>\n",
       "      <td>52.516666666, 13.383333333</td>\n",
       "      <td>3644826.0</td>\n",
       "      <td>DE</td>\n",
       "      <td>51.0</td>\n",
       "      <td>10.0</td>\n",
       "      <td>51.0,10.0</td>\n",
       "    </tr>\n",
       "  </tbody>\n",
       "</table>\n",
       "</div>"
      ],
      "text/plain": [
       "      language CITY_NAME  city_lat_3857  city_long_3857  \\\n",
       "31553       qu    berlin      52.516667       13.383333   \n",
       "31616      jbo    berlin      52.516667       13.383333   \n",
       "\n",
       "                city_lat_long_3857  population COUNTRY_ALPHA2_CODE  \\\n",
       "31553   52.516666666, 13.383333333   3644826.0                  DE   \n",
       "31616   52.516666666, 13.383333333   3644826.0                  DE   \n",
       "\n",
       "       country_lat_3857  country_long_3857 country_lat_long_3857  \n",
       "31553              51.0               10.0             51.0,10.0  \n",
       "31616              51.0               10.0             51.0,10.0  "
      ]
     },
     "execution_count": 64,
     "metadata": {},
     "output_type": "execute_result"
    }
   ],
   "source": [
    "df_city.loc[df_city['CITY_NAME'] == 'berlin'] # not listed in english or swedish"
   ]
  },
  {
   "cell_type": "code",
   "execution_count": 40,
   "metadata": {},
   "outputs": [
    {
     "data": {
      "text/plain": [
       "(52860, 10)"
      ]
     },
     "execution_count": 40,
     "metadata": {},
     "output_type": "execute_result"
    }
   ],
   "source": [
    "df_city.shape"
   ]
  },
  {
   "cell_type": "code",
   "execution_count": 70,
   "metadata": {},
   "outputs": [
    {
     "data": {
      "text/plain": [
       "(179, 2)"
      ]
     },
     "execution_count": 70,
     "metadata": {},
     "output_type": "execute_result"
    }
   ],
   "source": [
    "# get swedish citynames table\n",
    "df_city_en = df_city[df_city['language'] == 'es']\n",
    "df_city_en = df_city_en[['CITY_NAME', 'city_lat_long_3857']]\n",
    "df_city_en.shape"
   ]
  },
  {
   "cell_type": "code",
   "execution_count": 63,
   "metadata": {},
   "outputs": [
    {
     "data": {
      "text/plain": [
       "(146, 2)"
      ]
     },
     "execution_count": 63,
     "metadata": {},
     "output_type": "execute_result"
    }
   ],
   "source": [
    "# get english citynames table\n",
    "df_city_en = df_city[df_city['language'] == 'en']\n",
    "df_city_en = df_city_en[['CITY_NAME', 'city_lat_long_3857']]\n",
    "df_city_en.shape"
   ]
  },
  {
   "cell_type": "code",
   "execution_count": 55,
   "metadata": {},
   "outputs": [],
   "source": [
    "df_city_en = df_city_en.reset_index(drop=True)"
   ]
  },
  {
   "cell_type": "code",
   "execution_count": 71,
   "metadata": {},
   "outputs": [
    {
     "data": {
      "text/html": [
       "<div>\n",
       "<style scoped>\n",
       "    .dataframe tbody tr th:only-of-type {\n",
       "        vertical-align: middle;\n",
       "    }\n",
       "\n",
       "    .dataframe tbody tr th {\n",
       "        vertical-align: top;\n",
       "    }\n",
       "\n",
       "    .dataframe thead th {\n",
       "        text-align: right;\n",
       "    }\n",
       "</style>\n",
       "<table border=\"1\" class=\"dataframe\">\n",
       "  <thead>\n",
       "    <tr style=\"text-align: right;\">\n",
       "      <th></th>\n",
       "      <th>CITY_NAME</th>\n",
       "      <th>city_lat_long_3857</th>\n",
       "    </tr>\n",
       "  </thead>\n",
       "  <tbody>\n",
       "    <tr>\n",
       "      <th>51308</th>\n",
       "      <td>sarátov</td>\n",
       "      <td>51.533333333, 46.0</td>\n",
       "    </tr>\n",
       "    <tr>\n",
       "      <th>51346</th>\n",
       "      <td>oremburgo</td>\n",
       "      <td>51.766666666, 55.1</td>\n",
       "    </tr>\n",
       "    <tr>\n",
       "      <th>51840</th>\n",
       "      <td>barnaúl</td>\n",
       "      <td>53.356666666, 83.787222222</td>\n",
       "    </tr>\n",
       "    <tr>\n",
       "      <th>51921</th>\n",
       "      <td>ulán-udé</td>\n",
       "      <td>51.827222222, 107.606388888</td>\n",
       "    </tr>\n",
       "    <tr>\n",
       "      <th>52382</th>\n",
       "      <td>roodepoort</td>\n",
       "      <td>-26.1625, 27.8725</td>\n",
       "    </tr>\n",
       "  </tbody>\n",
       "</table>\n",
       "</div>"
      ],
      "text/plain": [
       "        CITY_NAME            city_lat_long_3857\n",
       "51308     sarátov            51.533333333, 46.0\n",
       "51346   oremburgo            51.766666666, 55.1\n",
       "51840     barnaúl    53.356666666, 83.787222222\n",
       "51921    ulán-udé   51.827222222, 107.606388888\n",
       "52382  roodepoort             -26.1625, 27.8725"
      ]
     },
     "execution_count": 71,
     "metadata": {},
     "output_type": "execute_result"
    }
   ],
   "source": [
    "df_city_en.tail()"
   ]
  },
  {
   "cell_type": "code",
   "execution_count": 57,
   "metadata": {},
   "outputs": [
    {
     "data": {
      "text/plain": [
       "'new york city'"
      ]
     },
     "execution_count": 57,
     "metadata": {},
     "output_type": "execute_result"
    }
   ],
   "source": [
    "# test\n",
    "df_city_en.loc[df_city_en['CITY_NAME'] == 'new york city']['CITY_NAME'].values[0]"
   ]
  },
  {
   "cell_type": "code",
   "execution_count": 58,
   "metadata": {},
   "outputs": [],
   "source": [
    "df_city_en.to_csv('./data/location_ref/citycoords_citynames_en.csv')"
   ]
  },
  {
   "cell_type": "code",
   "execution_count": null,
   "metadata": {},
   "outputs": [],
   "source": []
  }
 ],
 "metadata": {
  "kernelspec": {
   "display_name": "Python 3",
   "language": "python",
   "name": "python3"
  },
  "language_info": {
   "codemirror_mode": {
    "name": "ipython",
    "version": 3
   },
   "file_extension": ".py",
   "mimetype": "text/x-python",
   "name": "python",
   "nbconvert_exporter": "python",
   "pygments_lexer": "ipython3",
   "version": "3.7.6"
  }
 },
 "nbformat": 4,
 "nbformat_minor": 4
}
