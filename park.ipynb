{
 "cells": [
  {
   "cell_type": "code",
   "execution_count": 1,
   "metadata": {},
   "outputs": [
    {
     "ename": "NameError",
     "evalue": "name 'pd' is not defined",
     "output_type": "error",
     "traceback": [
      "\u001b[0;31m---------------------------------------------------------------------------\u001b[0m",
      "\u001b[0;31mNameError\u001b[0m                                 Traceback (most recent call last)",
      "\u001b[0;32m<ipython-input-1-77f2067323a0>\u001b[0m in \u001b[0;36m<module>\u001b[0;34m\u001b[0m\n\u001b[1;32m      2\u001b[0m \u001b[0;31m# file is from googlemaps\u001b[0m\u001b[0;34m\u001b[0m\u001b[0;34m\u001b[0m\u001b[0;34m\u001b[0m\u001b[0m\n\u001b[1;32m      3\u001b[0m \u001b[0;34m\u001b[0m\u001b[0m\n\u001b[0;32m----> 4\u001b[0;31m \u001b[0mdf_co_from_cc\u001b[0m \u001b[0;34m=\u001b[0m \u001b[0mpd\u001b[0m\u001b[0;34m.\u001b[0m\u001b[0mread_csv\u001b[0m\u001b[0;34m(\u001b[0m\u001b[0;34m'./data/location_ref/countrycodes_coord.csv'\u001b[0m\u001b[0;34m)\u001b[0m\u001b[0;34m\u001b[0m\u001b[0;34m\u001b[0m\u001b[0m\n\u001b[0m\u001b[1;32m      5\u001b[0m \u001b[0;34m\u001b[0m\u001b[0m\n\u001b[1;32m      6\u001b[0m \u001b[0;31m# drop nan rows\u001b[0m\u001b[0;34m\u001b[0m\u001b[0;34m\u001b[0m\u001b[0;34m\u001b[0m\u001b[0m\n",
      "\u001b[0;31mNameError\u001b[0m: name 'pd' is not defined"
     ]
    }
   ],
   "source": [
    "# lookup table country codes - coordinates\n",
    "# file is from googlemaps\n",
    "\n",
    "df_co_from_cc = pd.read_csv('./data/location_ref/countrycodes_coord.csv')\n",
    "\n",
    "# drop nan rows\n",
    "df_co_from_cc = df_co_from_cc.dropna(axis='rows')\n",
    "\n",
    "# remove the second decimal places after the dot for valid latitude and logitude notation\n",
    "df_co_from_cc['latitude'] = df_co_from_cc['latitude'].str.split('.').str[:-1].str.join('.')\n",
    "df_co_from_cc['longitude'] = df_co_from_cc['longitude'].str.split('.').str[:-1].str.join('.')\n",
    "\n",
    "# reame columns\n",
    "df_co_from_cc = df_co_from_cc.rename({'country': 'COUNTRY_ALPHA2_CODE', \n",
    "                                      'latitude': 'country_lat_3857', \n",
    "                                      'longitude': 'country_long_3857'}, axis='columns')\n",
    "df_co_from_cc['country_lat_long_3857'] = df_co_from_cc['country_lat_3857'] + ', ' + df_co_from_cc['country_long_3857']\n",
    "df_co_from_cc[150:200]"
   ]
  },
  {
   "cell_type": "code",
   "execution_count": 2,
   "metadata": {},
   "outputs": [],
   "source": [
    "# NO TRANSFORM FOR NOW\n",
    "\n",
    "\n",
    "# # test the Transformer\n",
    "# from pyproj import Transformer\n",
    "# transformer = Transformer.from_crs('epsg:3857','epsg:4326')\n",
    "# transformer.transform(47.516, 14.550)\n",
    "\n",
    "\n",
    "\n",
    "# from pyproj import Transformer\n",
    "\n",
    "# def trans_func(lat_long_string) -> str:\n",
    "#     \"\"\"transform coordinate system\n",
    "    \n",
    "#     Parameters:\n",
    "#     ---------\n",
    "#     lat_long_string: e.g. '-38.416, -63.616'\n",
    "    \n",
    "#     \"\"\"    \n",
    "#     # instantiate transformer\n",
    "#     transformer = Transformer.from_crs('epsg:3857','epsg:4326')\n",
    "    \n",
    "#     lat_str = lat_long_string.split(',')[0]\n",
    "#     long_str = lat_long_string.split(',')[1]\n",
    "#     transformed = transformer.transform(lat_str, long_str) # returns a tuple\n",
    "    \n",
    "#     coords_str = (str(transformed[0])) + ', ' + (str(transformed[1]))\n",
    "#     return coords_str # in decimal degrees ! \n",
    "    \n",
    "# df_co_from_cc['country_coords_4326_dd'] = df_co_from_cc['country_lat_long_3857'].apply(trans_func)"
   ]
  },
  {
   "cell_type": "code",
   "execution_count": null,
   "metadata": {},
   "outputs": [],
   "source": []
  }
 ],
 "metadata": {
  "kernelspec": {
   "display_name": "Python 3",
   "language": "python",
   "name": "python3"
  },
  "language_info": {
   "codemirror_mode": {
    "name": "ipython",
    "version": 3
   },
   "file_extension": ".py",
   "mimetype": "text/x-python",
   "name": "python",
   "nbconvert_exporter": "python",
   "pygments_lexer": "ipython3",
   "version": "3.7.6"
  }
 },
 "nbformat": 4,
 "nbformat_minor": 4
}
